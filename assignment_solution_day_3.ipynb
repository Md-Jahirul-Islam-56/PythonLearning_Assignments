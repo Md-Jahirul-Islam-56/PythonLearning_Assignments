{
 "cells": [
  {
   "cell_type": "markdown",
   "id": "f2578cc0",
   "metadata": {},
   "source": [
    "# Module 3: Data Structures Assignments\n",
    "## Lesson 3.1: Lists"
   ]
  },
  {
   "cell_type": "markdown",
   "id": "c8ade1ba",
   "metadata": {},
   "source": [
    "### Assignment 1: Creating and Accessing Lists\n",
    "\n",
    "Create a list of the first 20 positive integers. Print the list."
   ]
  },
  {
   "cell_type": "code",
   "execution_count": 9,
   "id": "d4a5baef",
   "metadata": {},
   "outputs": [
    {
     "name": "stdout",
     "output_type": "stream",
     "text": [
      "[1, 2, 3, 4, 5, 6, 7, 8, 9, 10, 11, 12, 13, 14, 15, 16, 17, 18, 19, 20]\n"
     ]
    }
   ],
   "source": [
    "lst=[x for x in range(1,21)]\n",
    "print(lst)"
   ]
  },
  {
   "cell_type": "markdown",
   "id": "3f7f8e52",
   "metadata": {},
   "source": [
    "### Assignment 2: Accessing List Elements\n",
    "\n",
    "Print the first, middle, and last elements of the list created in Assignment 1."
   ]
  },
  {
   "cell_type": "code",
   "execution_count": 10,
   "id": "08735c91",
   "metadata": {},
   "outputs": [
    {
     "name": "stdout",
     "output_type": "stream",
     "text": [
      "1\n",
      "11\n",
      "20\n",
      "20\n"
     ]
    }
   ],
   "source": [
    "print(lst[0])\n",
    "a=len(lst)//2\n",
    "print(lst[a])\n",
    "print(lst[len(lst)-1])\n",
    "print(lst[-1])"
   ]
  },
  {
   "cell_type": "markdown",
   "id": "d8410152",
   "metadata": {},
   "source": [
    "### Assignment 3: List Slicing\n",
    "\n",
    "Print the first five elements, the last five elements, and the elements from index 5 to 15 of the list created in Assignment 1."
   ]
  },
  {
   "cell_type": "code",
   "execution_count": 11,
   "id": "f0da25a4",
   "metadata": {},
   "outputs": [
    {
     "name": "stdout",
     "output_type": "stream",
     "text": [
      "[1, 2, 3, 4, 5]\n",
      "[16, 17, 18, 19, 20]\n",
      "[6, 7, 8, 9, 10, 11, 12, 13, 14, 15, 16]\n"
     ]
    }
   ],
   "source": [
    "print(lst[:5])\n",
    "print(lst[-5:])\n",
    "print(lst[5:16])"
   ]
  },
  {
   "cell_type": "markdown",
   "id": "2952e005",
   "metadata": {},
   "source": [
    "### Assignment 4: List Comprehensions\n",
    "\n",
    "Create a new list containing the squares of the first 10 positive integers using a list comprehension. Print the new list."
   ]
  },
  {
   "cell_type": "code",
   "execution_count": 20,
   "id": "96bd73d9",
   "metadata": {},
   "outputs": [
    {
     "name": "stdout",
     "output_type": "stream",
     "text": [
      "[1, 4, 9, 16, 25, 36, 49, 64, 81, 100]\n"
     ]
    }
   ],
   "source": [
    "list_2=[x**2 for x in lst[:10]]\n",
    "print(list_2)"
   ]
  },
  {
   "cell_type": "markdown",
   "id": "a0612e2f",
   "metadata": {},
   "source": [
    "### Assignment 5: Filtering Lists\n",
    "\n",
    "Create a new list containing only the even numbers from the list created in Assignment 1 using a list comprehension. Print the new list."
   ]
  },
  {
   "cell_type": "code",
   "execution_count": 13,
   "id": "44f0fa8f",
   "metadata": {},
   "outputs": [
    {
     "name": "stdout",
     "output_type": "stream",
     "text": [
      "[2, 4, 6, 8, 10, 12, 14, 16, 18, 20]\n"
     ]
    }
   ],
   "source": [
    "list_3 = [x for x in lst if x%2==0]\n",
    "print(list_3)"
   ]
  },
  {
   "cell_type": "markdown",
   "id": "5d2f01ca",
   "metadata": {},
   "source": [
    "### Assignment 6: List Methods\n",
    "\n",
    "Create a list of random numbers and sort it in ascending and descending order. Remove the duplicates from the list and print the modified list."
   ]
  },
  {
   "cell_type": "code",
   "execution_count": 35,
   "id": "6c3f0148",
   "metadata": {},
   "outputs": [
    {
     "name": "stdout",
     "output_type": "stream",
     "text": [
      "[2, 2, 3, 4, 5, 5, 7, 8, 10, 10]\n",
      "[10, 10, 8, 7, 5, 5, 4, 3, 2, 2]\n"
     ]
    }
   ],
   "source": [
    "import random\n",
    "\n",
    "lt = [random.randint(0, 10) for _ in range(10)]\n",
    "lt.sort()\n",
    "print(lt)\n",
    "# lt.reverse()\n",
    "print(lt[::-1])"
   ]
  },
  {
   "cell_type": "markdown",
   "id": "b30df3c2",
   "metadata": {},
   "source": [
    "### Assignment 7: Nested Lists\n",
    "\n",
    "Create a nested list representing a 3x3 matrix and print the matrix. Access and print the element at the second row and third column."
   ]
  },
  {
   "cell_type": "code",
   "execution_count": 15,
   "id": "050153b3",
   "metadata": {},
   "outputs": [
    {
     "name": "stdout",
     "output_type": "stream",
     "text": [
      "[[0, 1, 2], [3, 4, 5], [6, 7, 8]]\n",
      "[[3, 4, 5], [6, 7, 8]]\n",
      "[[4, 1, 4], [4, 0, 2], [2, 0, 8]]\n"
     ]
    }
   ],
   "source": [
    "matrix = [[j + i*3 for j in range(3)] for i in range(3)]\n",
    "print(matrix)\n",
    "print(matrix[:][1:3])\n",
    "\n",
    "## wasif method:\n",
    "import random\n",
    "\n",
    "l = [[random.randint(0, 10) for _ in range(3)] for _ in range(3)]\n",
    "print(l)"
   ]
  },
  {
   "cell_type": "markdown",
   "id": "91084cd8",
   "metadata": {},
   "source": [
    "### Assignment 8: List of Dictionaries\n",
    "\n",
    "Create a list of dictionaries where each dictionary represents a student with keys 'name' and 'score'. Sort the list of dictionaries by the 'score' in descending order and print the sorted list."
   ]
  },
  {
   "cell_type": "code",
   "execution_count": 16,
   "id": "fbfe7534",
   "metadata": {},
   "outputs": [
    {
     "name": "stdout",
     "output_type": "stream",
     "text": [
      "[{'student': '', 'score': 95}, {'student': '', 'score': 8}, {'student': '', 'score': 96}]\n"
     ]
    }
   ],
   "source": [
    "import random\n",
    "students_scores = [{'student': input(\"Enter name:\"), 'score': random.randint(1, 100)} for _ in range(1, 4)]\n",
    "print(students_scores)"
   ]
  },
  {
   "cell_type": "code",
   "execution_count": 17,
   "id": "3b34d5a3",
   "metadata": {},
   "outputs": [
    {
     "name": "stdout",
     "output_type": "stream",
     "text": [
      "[{'student': '', 'score': 96}, {'student': '', 'score': 95}, {'student': '', 'score': 8}]\n"
     ]
    }
   ],
   "source": [
    "students_scores.sort(key=lambda x: x['score'], reverse=True)\n",
    "print(students_scores)"
   ]
  },
  {
   "cell_type": "markdown",
   "id": "a14ebd3b",
   "metadata": {},
   "source": [
    "### Assignment 9: Matrix Transposition\n",
    "\n",
    "Write a function that takes a 3x3 matrix (nested list) as input and returns its transpose. Print the original and transposed matrices."
   ]
  },
  {
   "cell_type": "code",
   "execution_count": 51,
   "id": "86f3c711",
   "metadata": {},
   "outputs": [
    {
     "data": {
      "text/plain": [
       "[[3, 6, 9], [4, 7, 10], [5, 8, 11], [7, 10, 13]]"
      ]
     },
     "execution_count": 51,
     "metadata": {},
     "output_type": "execute_result"
    }
   ],
   "source": [
    "def transpose_matrix(matrix):\n",
    "    transposed = [[matrix[j][i] for j in range(len(matrix))] for i in range(len(matrix[0]))]\n",
    "    return transposed  \n",
    "                \n",
    "matrix = [\n",
    "    [3,4,5,7],\n",
    "    [6,7,8,10],\n",
    "    [9,10,11,13]\n",
    "]\n",
    "transpose_matrix(matrix)"
   ]
  },
  {
   "cell_type": "markdown",
   "id": "324da7d5",
   "metadata": {},
   "source": [
    "### Assignment 10: Flattening a Nested List\n",
    "\n",
    "Write a function that takes a nested list and flattens it into a single list. Print the original and flattened lists."
   ]
  },
  {
   "cell_type": "code",
   "execution_count": 56,
   "id": "b327fbee",
   "metadata": {},
   "outputs": [
    {
     "name": "stdout",
     "output_type": "stream",
     "text": [
      "[3, 4, 5, 7, 6, 7, 8, 10, 9, 10, 11, 13]\n",
      "[3, 4, 5, 7, 6, 7, 8, 10, 9, 10, 11, 13]\n"
     ]
    }
   ],
   "source": [
    "def single_list_conversion (nested_list):\n",
    "    single_list = [nested_list[i][j] for i in range(len(nested_list)) for j in range(len(nested_list[0]))]\n",
    "    return single_list\n",
    "\n",
    "def flatten_list(nested_list):\n",
    "    flat_list = []\n",
    "    for sublist in nested_list:\n",
    "        for item in sublist:\n",
    "            flat_list.append(item)\n",
    "    # flat_list = [item for sublist in nested_list for item in sublist]\n",
    "    return flat_list\n",
    "\n",
    "print(single_list_conversion(matrix))\n",
    "print(flatten_list(matrix))\n"
   ]
  },
  {
   "cell_type": "markdown",
   "id": "b2b7cbbe",
   "metadata": {},
   "source": [
    "### Assignment 11: List Manipulation\n",
    "\n",
    "Create a list of the first 10 positive integers. Remove the elements at indices 2, 4, and 6, and insert the element '99' at index 5. Print the modified list."
   ]
  },
  {
   "cell_type": "code",
   "execution_count": 82,
   "id": "2ce248ea",
   "metadata": {},
   "outputs": [
    {
     "name": "stdout",
     "output_type": "stream",
     "text": [
      "[1, 2, 4, 6, 8, 99, 9, 10]\n"
     ]
    }
   ],
   "source": [
    "pos = list(range(1,11))\n",
    "pos.remove(pos[6])\n",
    "pos.remove(pos[4])\n",
    "pos.remove(pos[2])\n",
    "pos.insert(5, 99)\n",
    "print(pos)"
   ]
  },
  {
   "cell_type": "markdown",
   "id": "f302abef",
   "metadata": {},
   "source": [
    "### Assignment 12: List Zipping\n",
    "\n",
    "Create two lists of the same length. Use the `zip` function to combine these lists into a list of tuples and print the result."
   ]
  },
  {
   "cell_type": "code",
   "execution_count": 86,
   "id": "2f76631c",
   "metadata": {},
   "outputs": [
    {
     "name": "stdout",
     "output_type": "stream",
     "text": [
      "[(1, 'j'), (2, 'a'), (3, 'h')]\n"
     ]
    }
   ],
   "source": [
    "l_one = [1,2,3,4]\n",
    "l_two = ['j', 'a','h']\n",
    "l_z = list(zip(l_one,l_two))\n",
    "print(l_z)"
   ]
  },
  {
   "cell_type": "markdown",
   "id": "610352f2",
   "metadata": {},
   "source": [
    "### Assignment 13: List Reversal\n",
    "\n",
    "Write a function that takes a list and returns a new list with the elements in reverse order. Print the original and reversed lists."
   ]
  },
  {
   "cell_type": "code",
   "execution_count": 93,
   "id": "25c6f813",
   "metadata": {},
   "outputs": [
    {
     "name": "stdout",
     "output_type": "stream",
     "text": [
      "Given list: [1, 2, 3, 4]\n",
      "Reversed list: [4, 3, 2, 1]\n"
     ]
    }
   ],
   "source": [
    "def reverse_list(any_list):\n",
    "    print(f\"Given list: {any_list}\")\n",
    "    # any_list.reverse()\n",
    "    return any_list[::-1]\n",
    "\n",
    "print(f\"Reversed list: {reverse_list(l_one)}\")"
   ]
  },
  {
   "cell_type": "markdown",
   "id": "1945e605",
   "metadata": {},
   "source": [
    "\n",
    "### Assignment 14: List Rotation\n",
    "\n",
    "Write a function that rotates a list by n positions. Print the original and rotated lists."
   ]
  },
  {
   "cell_type": "code",
   "execution_count": 99,
   "id": "184c843b",
   "metadata": {},
   "outputs": [
    {
     "name": "stdout",
     "output_type": "stream",
     "text": [
      "Original list: [1, 2, 3, 4, 5]\n",
      "Rotated list: [4, 5, 1, 2, 3]\n"
     ]
    }
   ],
   "source": [
    "def rotate_list(lst, n):\n",
    "    return lst[n:] + lst[:n]\n",
    "\n",
    "original_list = [1, 2, 3, 4, 5]\n",
    "rotated_list = rotate_list(original_list, 3)\n",
    "print(f\"Original list: {original_list}\")\n",
    "print(f\"Rotated list: {rotated_list}\")"
   ]
  },
  {
   "cell_type": "markdown",
   "id": "6e2db46b",
   "metadata": {},
   "source": [
    "### Assignment 15: List Intersection\n",
    "\n",
    "Write a function that takes two lists and returns a new list containing only the elements that are present in both lists. Print the intersected list."
   ]
  },
  {
   "cell_type": "code",
   "execution_count": 103,
   "id": "874fc14c",
   "metadata": {},
   "outputs": [
    {
     "data": {
      "text/plain": [
       "[4, 16]"
      ]
     },
     "execution_count": 103,
     "metadata": {},
     "output_type": "execute_result"
    }
   ],
   "source": [
    "def common_list_func(list_1, list_2):\n",
    "    return [x for x in list_1 if x in list_2]\n",
    "\n",
    "common_list_func(list_2,list_3)"
   ]
  }
 ],
 "metadata": {
  "kernelspec": {
   "display_name": "Python 3",
   "language": "python",
   "name": "python3"
  },
  "language_info": {
   "codemirror_mode": {
    "name": "ipython",
    "version": 3
   },
   "file_extension": ".py",
   "mimetype": "text/x-python",
   "name": "python",
   "nbconvert_exporter": "python",
   "pygments_lexer": "ipython3",
   "version": "3.10.0"
  }
 },
 "nbformat": 4,
 "nbformat_minor": 5
}
