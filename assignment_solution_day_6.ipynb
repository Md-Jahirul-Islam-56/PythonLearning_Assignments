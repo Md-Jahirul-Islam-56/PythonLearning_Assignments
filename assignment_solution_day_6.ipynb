{
 "cells": [
  {
   "cell_type": "markdown",
   "id": "f5550255",
   "metadata": {},
   "source": [
    "# Module 3: Data Structures Assignments\n",
    "## Lesson 3.4: Dictionaries"
   ]
  },
  {
   "cell_type": "markdown",
   "id": "9ce9e49b",
   "metadata": {},
   "source": [
    "### Assignment 1: Creating and Accessing Dictionaries\n",
    "\n",
    "Create a dictionary with the first 10 positive integers as keys and their squares as values. Print the dictionary."
   ]
  },
  {
   "cell_type": "code",
   "execution_count": 22,
   "id": "7b13b0b6",
   "metadata": {},
   "outputs": [
    {
     "name": "stdout",
     "output_type": "stream",
     "text": [
      "{1: 1, 2: 4, 3: 9, 4: 16, 5: 25, 6: 36, 7: 49, 8: 64, 9: 81, 10: 100}\n"
     ]
    }
   ],
   "source": [
    "dict = {x:x*x for x in range(1,11)}\n",
    "print(dict)"
   ]
  },
  {
   "cell_type": "markdown",
   "id": "2e3acc3d",
   "metadata": {},
   "source": [
    "### Assignment 2: Accessing Dictionary Elements\n",
    "\n",
    "Print the value of the key 5 and the keys of the dictionary created in Assignment 1."
   ]
  },
  {
   "cell_type": "code",
   "execution_count": 21,
   "id": "6662a2d8",
   "metadata": {},
   "outputs": [
    {
     "name": "stdout",
     "output_type": "stream",
     "text": [
      "[2, 3, 4, 5, 6]\n"
     ]
    }
   ],
   "source": [
    "l =[key for key,_ in dict.items()]\n",
    "l = l[:5]\n",
    "print(l)"
   ]
  },
  {
   "cell_type": "markdown",
   "id": "1a516a67",
   "metadata": {},
   "source": [
    "### Assignment 3: Dictionary Methods\n",
    "\n",
    "Add a new key-value pair (11, 121) to the dictionary created in Assignment 1 and then remove the key-value pair with key 1. Print the modified dictionary."
   ]
  },
  {
   "cell_type": "code",
   "execution_count": 23,
   "id": "5616d533",
   "metadata": {},
   "outputs": [
    {
     "name": "stdout",
     "output_type": "stream",
     "text": [
      "{2: 4, 3: 9, 4: 16, 5: 25, 6: 36, 7: 49, 8: 64, 9: 81, 10: 100, 11: 121}\n"
     ]
    }
   ],
   "source": [
    "dict[11]=121\n",
    "dict.pop(1)\n",
    "print(dict)\n"
   ]
  },
  {
   "cell_type": "markdown",
   "id": "f1f120e0",
   "metadata": {},
   "source": [
    "### Assignment 4: Iterating Over Dictionaries\n",
    "\n",
    "Iterate over the dictionary created in Assignment 1 and print each key-value pair."
   ]
  },
  {
   "cell_type": "code",
   "execution_count": 16,
   "id": "0aa9aeaf",
   "metadata": {},
   "outputs": [
    {
     "name": "stdout",
     "output_type": "stream",
     "text": [
      "2:4\n",
      "3:9\n",
      "4:16\n",
      "5:25\n",
      "6:36\n",
      "7:49\n",
      "8:64\n",
      "9:81\n",
      "10:100\n",
      "11:121\n"
     ]
    }
   ],
   "source": [
    "for k,v in dict.items():\n",
    "    print(f\"{k}:{v}\")"
   ]
  },
  {
   "cell_type": "markdown",
   "id": "eeaad660",
   "metadata": {},
   "source": [
    "### Assignment 5: Dictionary Comprehensions\n",
    "\n",
    "Create a new dictionary containing the cubes of the first 10 positive integers using a dictionary comprehension. Print the new dictionary."
   ]
  },
  {
   "cell_type": "code",
   "execution_count": 17,
   "id": "124aa4a7",
   "metadata": {},
   "outputs": [
    {
     "name": "stdout",
     "output_type": "stream",
     "text": [
      "{1: 1, 2: 8, 3: 27, 4: 64, 5: 125, 6: 216, 7: 343, 8: 512, 9: 729, 10: 1000}\n"
     ]
    }
   ],
   "source": [
    "dict_n = {x:x**3 for x in range(1,11)}\n",
    "print(dict_n)"
   ]
  },
  {
   "cell_type": "markdown",
   "id": "c79f1194",
   "metadata": {},
   "source": [
    "### Assignment 6: Merging Dictionaries\n",
    "\n",
    "Create two dictionaries: one with keys as the first 5 positive integers and values as their squares, and another with keys as the next 5 positive integers and values as their squares. Merge these dictionaries into a single dictionary and print it."
   ]
  },
  {
   "cell_type": "code",
   "execution_count": 18,
   "id": "a0d57bc1",
   "metadata": {},
   "outputs": [
    {
     "name": "stdout",
     "output_type": "stream",
     "text": [
      "[2, 3, 4, 5, 6, 7, 8, 9, 10, 11]\n",
      "{1: 1, 2: 4, 3: 9, 4: 16, 5: 25},{7: 49, 8: 64, 9: 81, 10: 100, 11: 121}\n",
      "{1: 1, 2: 4, 3: 9, 4: 16, 5: 25, 7: 49, 8: 64, 9: 81, 10: 100, 11: 121}\n"
     ]
    }
   ],
   "source": [
    "m =[key for key,_ in dict.items()]\n",
    "print(m)\n",
    "m = m[-5:]\n",
    "\n",
    "dict_N ={x:x**2 for x in m}\n",
    "dict_NN ={x:x**2 for x in l}\n",
    "merge_dict = {**dict_NN,**dict_N}\n",
    "print(f\"{dict_NN},{dict_N}\\n{merge_dict}\")"
   ]
  },
  {
   "cell_type": "markdown",
   "id": "76d9797d",
   "metadata": {},
   "source": [
    "### Assignment 7: Nested Dictionaries\n",
    "\n",
    "Create a nested dictionary representing a student with keys 'name', 'age', 'grades', where 'grades' is another dictionary with keys 'math', 'science', and 'english'. Print the nested dictionary."
   ]
  },
  {
   "cell_type": "code",
   "execution_count": 25,
   "id": "eac8af06",
   "metadata": {},
   "outputs": [
    {
     "name": "stdout",
     "output_type": "stream",
     "text": [
      "name:Jahirul\n",
      "age:22\n",
      "grades:{'math': 99, 'science': 95, 'english': 89}\n"
     ]
    }
   ],
   "source": [
    "student = {\n",
    "    \"name\" : \"Jahirul\",\n",
    "    \"age\" : 22,\n",
    "    'grades' : {'math' : 99, \n",
    "        'science' : 95, \n",
    "        'english' : 89\n",
    "        } \n",
    "}\n",
    "\n",
    "for k,v in student.items():\n",
    "    print(f\"{k}:{v}\")\n"
   ]
  },
  {
   "cell_type": "markdown",
   "id": "816acf8d",
   "metadata": {},
   "source": [
    "### Assignment 8: Dictionary of Lists\n",
    "\n",
    "Create a dictionary where the keys are the first 5 positive integers and the values are lists containing the first 5 multiples of the key. Print the dictionary."
   ]
  },
  {
   "cell_type": "code",
   "execution_count": 26,
   "id": "05c2f082",
   "metadata": {},
   "outputs": [
    {
     "name": "stdout",
     "output_type": "stream",
     "text": [
      "{1: 5, 2: 10, 3: 15, 4: 20, 5: 25}\n"
     ]
    }
   ],
   "source": [
    "posi = {x:x*5 for x in range(1,6)}\n",
    "print(posi)"
   ]
  },
  {
   "cell_type": "markdown",
   "id": "299cf6d0",
   "metadata": {},
   "source": [
    "### Assignment 9: Dictionary of Tuples\n",
    "\n",
    "Create a dictionary where the keys are the first 5 positive integers and the values are tuples containing the key and its square. Print the dictionary."
   ]
  },
  {
   "cell_type": "code",
   "execution_count": 29,
   "id": "55c57230",
   "metadata": {},
   "outputs": [
    {
     "name": "stdout",
     "output_type": "stream",
     "text": [
      "{1: (1, 1), 2: (2, 4), 3: (3, 9), 4: (4, 16), 5: (5, 25)}\n"
     ]
    }
   ],
   "source": [
    "posi_t = {x:(x,x**2) for x in range(1,6)}\n",
    "print(posi_t)"
   ]
  },
  {
   "cell_type": "markdown",
   "id": "f39baf64",
   "metadata": {},
   "source": [
    "### Assignment 10: Dictionary and List Conversion\n",
    "\n",
    "Create a dictionary with the first 5 positive integers as keys and their squares as values. Convert the dictionary to a list of tuples and print it."
   ]
  },
  {
   "cell_type": "code",
   "execution_count": 31,
   "id": "2428946f",
   "metadata": {},
   "outputs": [
    {
     "name": "stdout",
     "output_type": "stream",
     "text": [
      "[(1, 1), (2, 4), (3, 9), (4, 16), (5, 25)]\n"
     ]
    }
   ],
   "source": [
    "posi = {x:x**2 for x in range(1,6)}\n",
    "ListOfTupules_posi = list(posi.items())\n",
    "print(ListOfTupules_posi)"
   ]
  },
  {
   "cell_type": "markdown",
   "id": "fa1a63c5",
   "metadata": {},
   "source": [
    "### Assignment 11: Dictionary Filtering\n",
    "\n",
    "Create a dictionary with the first 10 positive integers as keys and their squares as values. Create a new dictionary containing only the key-value pairs where the key is even. Print the new dictionary."
   ]
  },
  {
   "cell_type": "code",
   "execution_count": 32,
   "id": "6e9d5f54",
   "metadata": {},
   "outputs": [
    {
     "name": "stdout",
     "output_type": "stream",
     "text": [
      "{2: 4, 4: 16, 6: 36, 8: 64, 10: 100}\n"
     ]
    }
   ],
   "source": [
    "posi = {x:x**2 for x in range(1,11)}\n",
    "even = {k:v for k,v in posi.items() if k%2==0}\n",
    "print(even)"
   ]
  },
  {
   "cell_type": "markdown",
   "id": "2aba648d",
   "metadata": {},
   "source": [
    "### Assignment 12: Dictionary Key and Value Transformation\n",
    "\n",
    "Create a dictionary with the first 5 positive integers as keys and their squares as values. Create a new dictionary with keys and values swapped. Print the new dictionary."
   ]
  },
  {
   "cell_type": "code",
   "execution_count": 34,
   "id": "d10187a4",
   "metadata": {},
   "outputs": [
    {
     "name": "stdout",
     "output_type": "stream",
     "text": [
      "{1: 1, 4: 2, 9: 3, 16: 4, 25: 5}\n"
     ]
    }
   ],
   "source": [
    "posi = {x:x**2 for x in range(1,6)}\n",
    "swap = {v:k for k,v in posi.items()}\n",
    "print(swap)"
   ]
  },
  {
   "cell_type": "markdown",
   "id": "b24a696c",
   "metadata": {},
   "source": [
    "### Assignment 13: Default Dictionary\n",
    "\n",
    "Create a default dictionary where each key has a default value of an empty list. Add some elements to the lists and print the dictionary."
   ]
  },
  {
   "cell_type": "code",
   "execution_count": 44,
   "id": "f38f0f89",
   "metadata": {},
   "outputs": [
    {
     "name": "stdout",
     "output_type": "stream",
     "text": [
      "0\n",
      "['1']\n",
      "1\n",
      "['1', '2']\n",
      "0\n",
      "['3']\n",
      "1\n",
      "['3', '4']\n",
      "{1: ['1', '2'], 2: ['3', '4']}\n"
     ]
    }
   ],
   "source": [
    "new = {x:[] for x in range(1,3)}\n",
    "for v in new.values():\n",
    "    l_len = int(input(\"Enter number of inputs:\"))\n",
    "    for i in range(l_len):\n",
    "        # print(i)\n",
    "        value = input(f\"input {i}th index:\")\n",
    "        v.append(value)\n",
    "        # print(v)\n",
    "print(new)"
   ]
  },
  {
   "cell_type": "markdown",
   "id": "f1be25a6",
   "metadata": {},
   "source": [
    "### Assignment 14: Counting with Dictionaries\n",
    "\n",
    "Write a function that takes a string and returns a dictionary with the count of each character in the string. Print the dictionary."
   ]
  },
  {
   "cell_type": "code",
   "execution_count": 60,
   "id": "5aa9cf05",
   "metadata": {},
   "outputs": [
    {
     "name": "stdout",
     "output_type": "stream",
     "text": [
      "{'J': 1, 'a': 2, 'h': 3, 'i': 4, 'r': 5, 'u': 6, 'l': 7}\n"
     ]
    }
   ],
   "source": [
    "def count_string(string):\n",
    "    # dict = {string.count(x):x for x in string}\n",
    "    dict = {x:y for y,x in enumerate(string,1)}\n",
    "    return dict\n",
    "\n",
    "strng = \"Jahirul\"\n",
    "result = count_string(strng)\n",
    "print(result)"
   ]
  },
  {
   "cell_type": "markdown",
   "id": "2f63f109",
   "metadata": {},
   "source": [
    "### Assignment 15: Dictionary and JSON\n",
    "\n",
    "Create a dictionary representing a book with keys 'title', 'author', 'year', and 'genre'. Convert the dictionary to a JSON string and print it."
   ]
  },
  {
   "cell_type": "code",
   "execution_count": 61,
   "id": "915290ee",
   "metadata": {},
   "outputs": [
    {
     "name": "stdout",
     "output_type": "stream",
     "text": [
      "{\"title\": \"Electronic Device\", \"author\": \"Boylstead\", \"year\": 2018, \"genre\": \"Electronics\"}\n"
     ]
    }
   ],
   "source": [
    "import json\n",
    "book = {\n",
    "    'title' : 'Electronic Device' ,\n",
    "    'author' : 'Boylstead', \n",
    "    'year' : 2018,\n",
    "    'genre' : 'Electronics'\n",
    "}\n",
    "\n",
    "book_json = json.dumps(book)\n",
    "print(book_json)"
   ]
  }
 ],
 "metadata": {
  "kernelspec": {
   "display_name": "Python 3",
   "language": "python",
   "name": "python3"
  },
  "language_info": {
   "codemirror_mode": {
    "name": "ipython",
    "version": 3
   },
   "file_extension": ".py",
   "mimetype": "text/x-python",
   "name": "python",
   "nbconvert_exporter": "python",
   "pygments_lexer": "ipython3",
   "version": "3.10.0"
  }
 },
 "nbformat": 4,
 "nbformat_minor": 5
}
