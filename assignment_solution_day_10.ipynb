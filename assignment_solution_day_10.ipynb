{
 "cells": [
  {
   "cell_type": "markdown",
   "id": "ed2d9e9a",
   "metadata": {},
   "source": [
    "# Module: Exception Handling Assignments\n",
    "## Lesson: Exception Handling with try, except, and finally"
   ]
  },
  {
   "cell_type": "markdown",
   "id": "091560e6",
   "metadata": {},
   "source": [
    "### Assignment 1: Handling Division by Zero\n",
    "\n",
    "Write a function that takes two integers as input and returns their division. Use try, except, and finally blocks to handle division by zero and print an appropriate message."
   ]
  },
  {
   "cell_type": "code",
   "execution_count": 3,
   "id": "4994d3dd",
   "metadata": {},
   "outputs": [
    {
     "name": "stdout",
     "output_type": "stream",
     "text": [
      "Error: division by zero\n",
      "Execution complete.\n"
     ]
    }
   ],
   "source": [
    "def divide(a, b):\n",
    "    try:\n",
    "        result = a / b\n",
    "    except ZeroDivisionError as e:\n",
    "        print(f\"Error: {e}\")\n",
    "        result = None\n",
    "    finally:\n",
    "        print(\"Execution complete.\")\n",
    "    return result\n",
    "\n",
    "# divide(2,3)\n",
    "divide(2,0)"
   ]
  },
  {
   "cell_type": "markdown",
   "id": "21bb1ccd",
   "metadata": {},
   "source": [
    "### Assignment 2: File Reading with Exception Handling\n",
    "\n",
    "Write a function that reads the contents of a file named `data.txt`. Use try, except, and finally blocks to handle file not found errors and ensure the file is properly closed."
   ]
  },
  {
   "cell_type": "code",
   "execution_count": 4,
   "id": "d6b85e94",
   "metadata": {},
   "outputs": [
    {
     "name": "stdout",
     "output_type": "stream",
     "text": [
      "Error: [Errno 2] No such file or directory: 'sample.txt'\n",
      "Not closed because of an error: local variable 'file' referenced before assignment\n"
     ]
    }
   ],
   "source": [
    "def read_file(filename):\n",
    "    try:\n",
    "        file = open(filename, 'r')\n",
    "        content = file.read()\n",
    "        return content\n",
    "    except FileNotFoundError as e:\n",
    "        print(f\"Error: {e}\")\n",
    "    except Exception as e:\n",
    "        print(f\"Error: {e}\")\n",
    "    finally:\n",
    "        try:\n",
    "            file.close()\n",
    "        except Exception as e:\n",
    "            print(f\"Not closed because of an error: {e}\")\n",
    "\n",
    "read_file(\"sample.txt\")"
   ]
  },
  {
   "cell_type": "markdown",
   "id": "03d0f921",
   "metadata": {},
   "source": [
    "### Assignment 3: Handling Multiple Exceptions\n",
    "\n",
    "Write a function that takes a list of integers and returns their sum. Use try, except, and finally blocks to handle TypeError if a non-integer value is encountered and print an appropriate message."
   ]
  },
  {
   "cell_type": "code",
   "execution_count": null,
   "id": "6625fb30",
   "metadata": {},
   "outputs": [],
   "source": [
    "def sum_list(lst):\n",
    "    total = 0\n",
    "    try:\n",
    "        for item in lst:\n",
    "            total += item\n",
    "    except TypeError as e:\n",
    "        print(f\"Error: {e}\")\n",
    "        total = None\n",
    "    finally:\n",
    "        print(\"Execution complete.\")\n",
    "    return total\n",
    "\n",
    "# Test\n",
    "# print(sum_list([1, 2, 3, 'a']))  # None\n",
    "# print(sum_list([1, 2, 3, 4]))  # 10"
   ]
  },
  {
   "cell_type": "markdown",
   "id": "3da504d4",
   "metadata": {},
   "source": [
    "### Assignment 4: Exception Handling in User Input\n",
    "\n",
    "Write a function that prompts the user to enter an integer. Use try, except, and finally blocks to handle ValueError if the user enters a non-integer value and print an appropriate message."
   ]
  },
  {
   "cell_type": "code",
   "execution_count": null,
   "id": "808899b8",
   "metadata": {},
   "outputs": [],
   "source": [
    "def get_integer():\n",
    "    try:\n",
    "        value = int(input(\"Enter an integer: \"))\n",
    "    except ValueError as e:\n",
    "        print(f\"Error: {e}\")\n",
    "        value = None\n",
    "    finally:\n",
    "        print(\"Execution complete.\")\n",
    "    return value\n",
    "\n",
    "# Test\n",
    "# print(get_integer())"
   ]
  },
  {
   "cell_type": "markdown",
   "id": "1ff55661",
   "metadata": {},
   "source": [
    "### Assignment 5: Exception Handling in Dictionary Access\n",
    "\n",
    "Write a function that takes a dictionary and a key as input and returns the value associated with the key. Use try, except, and finally blocks to handle KeyError if the key is not found in the dictionary and print an appropriate message."
   ]
  },
  {
   "cell_type": "code",
   "execution_count": null,
   "id": "3b1c4595",
   "metadata": {},
   "outputs": [],
   "source": [
    "def get_dict_value(d, key):\n",
    "    try:\n",
    "        value = d[key]\n",
    "    except KeyError as e:\n",
    "        print(f\"Error: {e}\")\n",
    "        value = None\n",
    "    finally:\n",
    "        print(\"Execution complete.\")\n",
    "    return value\n",
    "\n",
    "# Test\n",
    "# d = {'a': 1, 'b': 2, 'c': 3}\n",
    "# print(get_dict_value(d, 'b'))  # 2\n",
    "# print(get_dict_value(d, 'x'))  # None"
   ]
  },
  {
   "cell_type": "markdown",
   "id": "4616075e",
   "metadata": {},
   "source": [
    "### Assignment 6: Nested Exception Handling\n",
    "\n",
    "Write a function that performs nested exception handling. It should first attempt to convert a string to an integer, and then attempt to divide by that integer. Use nested try, except, and finally blocks to handle ValueError and ZeroDivisionError and print appropriate messages."
   ]
  },
  {
   "cell_type": "code",
   "execution_count": null,
   "id": "c1a751e3",
   "metadata": {},
   "outputs": [],
   "source": [
    "def nested_exception_handling(s):\n",
    "    try:\n",
    "        try:\n",
    "            num = int(s)\n",
    "        except ValueError as e:\n",
    "            print(f\"Conversion error: {e}\")\n",
    "            num = None\n",
    "        finally:\n",
    "            print(\"Conversion attempt complete.\")\n",
    "        if num is not None:\n",
    "            try:\n",
    "                result = 10 / num\n",
    "            except ZeroDivisionError as e:\n",
    "                print(f\"Division error: {e}\")\n",
    "                result = None\n",
    "            finally:\n",
    "                print(\"Division attempt complete.\")\n",
    "            return result\n",
    "    finally:\n",
    "        print(\"Overall execution complete.\")\n",
    "\n",
    "# Test\n",
    "# print(nested_exception_handling('0'))  # None\n",
    "# print(nested_exception_handling('a'))  # None\n",
    "# print(nested_exception_handling('2'))  # 5.0"
   ]
  },
  {
   "cell_type": "markdown",
   "id": "aceeb504",
   "metadata": {},
   "source": [
    "### Assignment 7: Exception Handling in List Operations\n",
    "\n",
    "Write a function that takes a list and an index as input and returns the element at the given index. Use try, except, and finally blocks to handle IndexError if the index is out of range and print an appropriate message.\n"
   ]
  },
  {
   "cell_type": "code",
   "execution_count": null,
   "id": "10e5b95b",
   "metadata": {},
   "outputs": [],
   "source": [
    "def get_list_element(lst, index):\n",
    "    try:\n",
    "        element = lst[index]\n",
    "    except IndexError as e:\n",
    "        print(f\"Error: {e}\")\n",
    "        element = None\n",
    "    finally:\n",
    "        print(\"Execution complete.\")\n",
    "    return element\n",
    "\n",
    "# Test\n",
    "# lst = [1, 2, 3, 4, 5]\n",
    "# print(get_list_element(lst, 2))  # 3\n",
    "# print(get_list_element(lst, 10))  # None"
   ]
  },
  {
   "cell_type": "markdown",
   "id": "d1a250fc",
   "metadata": {},
   "source": [
    "### Assignment 8: Exception Handling in Network Operations\n",
    "\n",
    "Write a function that attempts to open a URL and read its contents. Use try, except, and finally blocks to handle network-related errors and print an appropriate message."
   ]
  },
  {
   "cell_type": "code",
   "execution_count": 30,
   "id": "803622fe",
   "metadata": {},
   "outputs": [],
   "source": [
    "import requests\n",
    "\n",
    "def read_url(url):\n",
    "    try:\n",
    "        response = requests.get(url)\n",
    "        response.raise_for_status()\n",
    "        return response.text\n",
    "    except requests.RequestException as e:\n",
    "        print(f\"Network error: {e}\")\n",
    "        return None\n",
    "    finally:\n",
    "        print(\"Execution complete.\")\n",
    "\n",
    "\n",
    "# print(read_url(url='your url'))"
   ]
  },
  {
   "cell_type": "markdown",
   "id": "df140d86",
   "metadata": {},
   "source": [
    "### Assignment 9: Exception Handling in JSON Parsing\n",
    "\n",
    "Write a function that attempts to parse a JSON string. Use try, except, and finally blocks to handle JSONDecodeError if the string is not a valid JSON and print an appropriate message."
   ]
  },
  {
   "cell_type": "code",
   "execution_count": null,
   "id": "45dd1fc5",
   "metadata": {},
   "outputs": [],
   "source": [
    "import json\n",
    "\n",
    "def parse_json(json_string):\n",
    "    try:\n",
    "        data = json.loads(json_string)\n",
    "        return data\n",
    "    except json.JSONDecodeError as e:\n",
    "        print(f\"JSON error: {e}\")\n",
    "        return None\n",
    "    finally:\n",
    "        print(\"Execution complete.\")\n",
    "\n",
    "# Test\n",
    "# print(parse_json('{\"name\": \"John\", \"age\": 30}'))  # {'name': 'John', 'age': 30}\n",
    "# print(parse_json('Invalid JSON'))  # None"
   ]
  },
  {
   "cell_type": "markdown",
   "id": "0b7da1cf",
   "metadata": {},
   "source": [
    "### Assignment 10: Custom Exception Handling\n",
    "\n",
    "Define a custom exception named `NegativeNumberError`. Write a function that raises this exception if a negative number is encountered in a list. Use try, except, and finally blocks to handle the custom exception and print an appropriate message."
   ]
  },
  {
   "cell_type": "code",
   "execution_count": null,
   "id": "1645b98b",
   "metadata": {},
   "outputs": [],
   "source": [
    "class NegativeNumberError(Exception):\n",
    "    pass\n",
    "\n",
    "def check_for_negatives(lst):\n",
    "    try:\n",
    "        for num in lst:\n",
    "            if num < 0:\n",
    "                raise NegativeNumberError(f\"Negative number found: {num}\")\n",
    "    except NegativeNumberError as e:\n",
    "        print(f\"Error: {e}\")\n",
    "    finally:\n",
    "        print(\"Execution complete.\")\n",
    "\n",
    "# Test\n",
    "# check_for_negatives([1, -2, 3, 4])  # Error: Negative number found: -2\n",
    "# check_for_negatives([1, 2, 3, 4])  # Execution complete."
   ]
  },
  {
   "cell_type": "markdown",
   "id": "e8ec49a9",
   "metadata": {},
   "source": [
    "### Assignment 11: Exception Handling in Function Calls\n",
    "\n",
    "Write a function that calls another function which may raise an exception. Use try, except, and finally blocks to handle the exception and print an appropriate message."
   ]
  },
  {
   "cell_type": "code",
   "execution_count": 25,
   "id": "28c15c16",
   "metadata": {},
   "outputs": [
    {
     "name": "stdout",
     "output_type": "stream",
     "text": [
      "Execution complete.\n"
     ]
    }
   ],
   "source": [
    "def error_function():\n",
    "    pass\n",
    "\n",
    "def exception_function():\n",
    "    try:\n",
    "        error_function()\n",
    "    except ValueError as e:\n",
    "        print(f\"Error: {e}\")\n",
    "    finally:\n",
    "        print(\"Execution complete.\")\n",
    "\n",
    "exception_function()"
   ]
  },
  {
   "cell_type": "markdown",
   "id": "68426dfe",
   "metadata": {},
   "source": [
    "### Assignment 12: Exception Handling in Class Methods\n",
    "\n",
    "Define a class with a method that performs a division operation. Use try, except, and finally blocks within the method to handle division by zero and print an appropriate message."
   ]
  },
  {
   "cell_type": "code",
   "execution_count": 24,
   "id": "1e05cce7",
   "metadata": {},
   "outputs": [
    {
     "name": "stdout",
     "output_type": "stream",
     "text": [
      "Error: division by zero\n",
      "Execution complete.\n"
     ]
    }
   ],
   "source": [
    "class Calculator:\n",
    "    def divide(self, a, b):\n",
    "        try:\n",
    "            result = a / b\n",
    "        except ZeroDivisionError as e:\n",
    "            print(f\"Error: {e}\")\n",
    "            result = None\n",
    "        finally:\n",
    "            print(\"Execution complete.\")\n",
    "        return result\n",
    "    \n",
    "calc = Calculator()\n",
    "calc.divide(5,0)"
   ]
  },
  {
   "cell_type": "markdown",
   "id": "c1284214",
   "metadata": {},
   "source": [
    "### Assignment 13: Exception Handling in Data Conversion\n",
    "\n",
    "Write a function that takes a list of strings and converts them to integers. Use try, except, and finally blocks to handle ValueError if a string cannot be converted and print an appropriate message."
   ]
  },
  {
   "cell_type": "code",
   "execution_count": 21,
   "id": "60e7d725",
   "metadata": {},
   "outputs": [
    {
     "name": "stdout",
     "output_type": "stream",
     "text": [
      "Incorrect Type\n",
      "[2, 5, 6]\n"
     ]
    }
   ],
   "source": [
    "s_lst = ['Holla is hello', 'catze is cat']\n",
    "lst = ['2','5','6']\n",
    "n_lst_1 = []\n",
    "n_lst_2 = []\n",
    "try:\n",
    "    for i in lst:\n",
    "        n_lst_2.append(int(i))\n",
    "    for i in s_lst:\n",
    "        n_lst_1.append(int(i))\n",
    "       \n",
    "\n",
    "except ValueError:\n",
    "    print(\"Incorrect Type\")\n",
    "except Exception as e:\n",
    "    print(e)\n",
    "\n",
    "finally:\n",
    "    if n_lst_1:\n",
    "        print(n_lst_1)\n",
    "    if n_lst_2:\n",
    "        print(n_lst_2)"
   ]
  },
  {
   "cell_type": "markdown",
   "id": "e207af06",
   "metadata": {},
   "source": [
    "### Assignment 14: Exception Handling in List Comprehensions\n",
    "\n",
    "Write a function that uses a list comprehension to convert a list of strings to integers. Use try, except, and finally blocks within the list comprehension to handle ValueError and print an appropriate message."
   ]
  },
  {
   "cell_type": "code",
   "execution_count": 13,
   "id": "9af3dc7c",
   "metadata": {},
   "outputs": [
    {
     "name": "stdout",
     "output_type": "stream",
     "text": [
      "Incorrect Type\n",
      "[2, 5, 6]\n"
     ]
    }
   ],
   "source": [
    "s_lst = ['Holla is hello', 'catze is cat']\n",
    "lst = ['2','5','6']\n",
    "n_lst_1 = []\n",
    "n_lst_2 = []\n",
    "try:\n",
    "    n_lst_1 = [int(i) for i in lst]\n",
    "    n_lst_2 = [int(i) for i in s_lst]\n",
    "\n",
    "except ValueError:\n",
    "    print(\"Incorrect Type\")\n",
    "except Exception as e:\n",
    "    print(e)\n",
    "\n",
    "finally:\n",
    "    if n_lst_1:\n",
    "        print(n_lst_1)\n",
    "    if n_lst_2:\n",
    "        print(n_lst_2)"
   ]
  },
  {
   "cell_type": "markdown",
   "id": "0f3c7158",
   "metadata": {},
   "source": [
    "### Assignment 15: Exception Handling in File Writing\n",
    "\n",
    "Write a function that attempts to write a list of strings to a file. Use try, except, and finally blocks to handle IOError and ensure the file is properly closed."
   ]
  },
  {
   "cell_type": "code",
   "execution_count": 3,
   "id": "c6cc0271",
   "metadata": {},
   "outputs": [
    {
     "name": "stdout",
     "output_type": "stream",
     "text": [
      "File closed\n"
     ]
    }
   ],
   "source": [
    "s_lst = ['Holla is hello', 'catze is cat']\n",
    "try:\n",
    "    file = open('example.txt','w')\n",
    "    for s in s_lst:\n",
    "        file.write(s+'\\n')\n",
    "\n",
    "except IOError:\n",
    "    print(\"The file is not found\")\n",
    "except Exception as e:\n",
    "    print(e)\n",
    "\n",
    "finally:\n",
    "    if 'file' in locals() and (not file.close()):\n",
    "        file.close()\n",
    "        print('File closed')"
   ]
  }
 ],
 "metadata": {
  "kernelspec": {
   "display_name": "Python 3",
   "language": "python",
   "name": "python3"
  },
  "language_info": {
   "codemirror_mode": {
    "name": "ipython",
    "version": 3
   },
   "file_extension": ".py",
   "mimetype": "text/x-python",
   "name": "python",
   "nbconvert_exporter": "python",
   "pygments_lexer": "ipython3",
   "version": "3.10.0"
  }
 },
 "nbformat": 4,
 "nbformat_minor": 5
}
