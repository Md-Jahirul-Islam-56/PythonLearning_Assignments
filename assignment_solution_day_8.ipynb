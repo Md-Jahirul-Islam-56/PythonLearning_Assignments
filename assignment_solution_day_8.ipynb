{
 "cells": [
  {
   "cell_type": "markdown",
   "id": "35311d07",
   "metadata": {},
   "source": [
    "# Module 5: Modules and Packages Assignments\n",
    "## Lesson 5.1: Importing Modules\n",
    "### Assignment 1: Importing and Using Modules\n",
    "\n",
    "Import the `math` module and use it to calculate the square root of 25 and the sine of 90 degrees."
   ]
  },
  {
   "cell_type": "code",
   "execution_count": 6,
   "id": "cff1ec7f",
   "metadata": {},
   "outputs": [
    {
     "name": "stdout",
     "output_type": "stream",
     "text": [
      "5.0 1.0\n"
     ]
    }
   ],
   "source": [
    "import math \n",
    "r = math.radians(90)\n",
    "print(math.sqrt(25),math.sin(r))"
   ]
  },
  {
   "cell_type": "markdown",
   "id": "f40d9e20",
   "metadata": {},
   "source": [
    "### Assignment 2: Aliasing Modules\n",
    "\n",
    "Import the `datetime` module with an alias and use it to print the current date and time."
   ]
  },
  {
   "cell_type": "code",
   "execution_count": 7,
   "id": "9f44b181",
   "metadata": {},
   "outputs": [
    {
     "data": {
      "text/plain": [
       "datetime.datetime(2024, 10, 27, 13, 47, 27, 247553)"
      ]
     },
     "execution_count": 7,
     "metadata": {},
     "output_type": "execute_result"
    }
   ],
   "source": [
    "import datetime as dt\n",
    "\n",
    "dt.datetime.now()\n"
   ]
  },
  {
   "cell_type": "markdown",
   "id": "197a2bc4",
   "metadata": {},
   "source": [
    "### Assignment 3: Importing Specific Functions\n",
    "\n",
    "Import the `randint` function from the `random` module and use it to generate a random integer between 1 and 100."
   ]
  },
  {
   "cell_type": "code",
   "execution_count": 10,
   "id": "a65214fe",
   "metadata": {},
   "outputs": [
    {
     "data": {
      "text/plain": [
       "4"
      ]
     },
     "execution_count": 10,
     "metadata": {},
     "output_type": "execute_result"
    }
   ],
   "source": [
    "from random import randint\n",
    "\n",
    "randint(1,100)"
   ]
  },
  {
   "cell_type": "markdown",
   "id": "296bd565",
   "metadata": {},
   "source": [
    "### Assignment 4: Importing Multiple Functions\n",
    "\n",
    "Import the `sqrt` and `pow` functions from the `math` module and use them to calculate the square root of 16 and 2 raised to the power of 3."
   ]
  },
  {
   "cell_type": "code",
   "execution_count": 11,
   "id": "342b72ca",
   "metadata": {},
   "outputs": [
    {
     "name": "stdout",
     "output_type": "stream",
     "text": [
      "4.0 8.0\n"
     ]
    }
   ],
   "source": [
    "from math import sqrt , pow\n",
    "print(sqrt(16),pow(2,3))"
   ]
  },
  {
   "cell_type": "markdown",
   "id": "fbc25700",
   "metadata": {},
   "source": [
    "### Assignment 5: Handling Import Errors\n",
    "\n",
    "Write code that attempts to import a non-existent module and gracefully handles the import error by printing an error message."
   ]
  },
  {
   "cell_type": "code",
   "execution_count": 33,
   "id": "7494ece3",
   "metadata": {},
   "outputs": [
    {
     "name": "stdout",
     "output_type": "stream",
     "text": [
      "No module named 'Algebra'\n"
     ]
    }
   ],
   "source": [
    "try:\n",
    "    import Algebra as A\n",
    "except ImportError as e:\n",
    "    print( f\"{e}\")"
   ]
  },
  {
   "cell_type": "markdown",
   "id": "56c24514",
   "metadata": {},
   "source": [
    "## Lesson 5.2: Standard Library Overview\n",
    "### Assignment 6: Working with the `os` Module\n",
    "\n",
    "Use the `os` module to create a new directory, list the contents of the current directory, and remove the newly created directory."
   ]
  },
  {
   "cell_type": "code",
   "execution_count": 32,
   "id": "1489b008",
   "metadata": {},
   "outputs": [
    {
     "data": {
      "text/plain": [
       "['assignment_solution_day_1.ipynb',\n",
       " 'assignment_solution_day_2.ipynb',\n",
       " 'assignment_solution_day_3.ipynb',\n",
       " 'assignment_solution_day_4.ipynb',\n",
       " 'assignment_solution_day_5.ipynb',\n",
       " 'assignment_solution_day_6.ipynb',\n",
       " 'assignment_solution_day_7.ipynb',\n",
       " 'assignment_solution_day_8.ipynb',\n",
       " 'integerfile.txt',\n",
       " 'mypackage',\n",
       " 'sys_module.py']"
      ]
     },
     "execution_count": 32,
     "metadata": {},
     "output_type": "execute_result"
    }
   ],
   "source": [
    "import os \n",
    "# os.mkdir(\"My mkdir File\")\n",
    "\n",
    "os.listdir('.')\n",
    "\n",
    "# os.rmdir(\"My mkdir File\")"
   ]
  },
  {
   "cell_type": "markdown",
   "id": "c1af1730",
   "metadata": {},
   "source": [
    "### Assignment 7: Working with the `sys` Module\n",
    "\n",
    "Use the `sys` module to print the Python version currently in use and the command-line arguments passed to the script."
   ]
  },
  {
   "cell_type": "code",
   "execution_count": 25,
   "id": "0a0fab5d",
   "metadata": {},
   "outputs": [
    {
     "name": "stdout",
     "output_type": "stream",
     "text": [
      "3.10.0 | packaged by conda-forge | (default, Nov 10 2021, 13:20:59) [MSC v.1916 64 bit (AMD64)]\n"
     ]
    }
   ],
   "source": [
    "import sys\n",
    "print(sys.version)\n",
    "print(sys.argv)\n"
   ]
  },
  {
   "cell_type": "markdown",
   "id": "29d7c63a",
   "metadata": {},
   "source": [
    "### Assignment 8: Working with the `math` Module\n",
    "\n",
    "Use the `math` module to calculate the greatest common divisor (GCD) of two numbers and the factorial of a number."
   ]
  },
  {
   "cell_type": "code",
   "execution_count": 22,
   "id": "4fa2bc56",
   "metadata": {},
   "outputs": [
    {
     "name": "stdout",
     "output_type": "stream",
     "text": [
      "1\n",
      "120\n"
     ]
    }
   ],
   "source": [
    "import math\n",
    "print(math.gcd(3,5))\n",
    "print(math.factorial(5))"
   ]
  },
  {
   "cell_type": "markdown",
   "id": "339e03aa",
   "metadata": {},
   "source": [
    "### Assignment 9: Working with the `datetime` Module\n",
    "\n",
    "Use the `datetime` module to print the current date, calculate the date 100 days from today, and determine the day of the week for a given date."
   ]
  },
  {
   "cell_type": "code",
   "execution_count": 23,
   "id": "0af9bebc",
   "metadata": {},
   "outputs": [
    {
     "name": "stdout",
     "output_type": "stream",
     "text": [
      "2024-10-27\n",
      "2025-02-04\n"
     ]
    },
    {
     "data": {
      "text/plain": [
       "'Monday'"
      ]
     },
     "execution_count": 23,
     "metadata": {},
     "output_type": "execute_result"
    }
   ],
   "source": [
    "import datetime\n",
    "today = datetime.date.today()\n",
    "print(today)\n",
    "days_after_100 = datetime.timedelta(days=100) + today\n",
    "print(days_after_100)\n",
    "datetime.date(2024, 1, 1).strftime(\"%A\")"
   ]
  },
  {
   "cell_type": "markdown",
   "id": "9274200d",
   "metadata": {},
   "source": [
    "### Assignment 10: Working with the `random` Module\n",
    "\n",
    "Use the `random` module to generate a list of 5 random numbers between 1 and 50 and shuffle the elements of a list."
   ]
  },
  {
   "cell_type": "code",
   "execution_count": 40,
   "id": "0d4cfe68",
   "metadata": {},
   "outputs": [
    {
     "name": "stdout",
     "output_type": "stream",
     "text": [
      "[34, 40, 25, 21, 1]\n",
      "shuffled list [40, 21, 34, 1, 25]\n"
     ]
    }
   ],
   "source": [
    "import random\n",
    "\n",
    "lst = [randint(1,51) for _ in range(1,6)]\n",
    "print(lst)\n",
    "random.shuffle(lst)\n",
    "print(\"shuffled list\",lst)"
   ]
  },
  {
   "cell_type": "markdown",
   "id": "9e84e60c",
   "metadata": {},
   "source": [
    "## Lesson 5.3: Creating and Using Packages\n",
    "### Assignment 11: Creating a Simple Package\n",
    "\n",
    "Create a package named `mypackage` with two modules: `module1` and `module2`. `module1` should contain a function that adds two numbers, and `module2` should contain a function that multiplies two numbers. Write code to use these functions."
   ]
  },
  {
   "cell_type": "code",
   "execution_count": 42,
   "id": "c3acc438",
   "metadata": {},
   "outputs": [
    {
     "name": "stdout",
     "output_type": "stream",
     "text": [
      "5\n",
      "6\n"
     ]
    }
   ],
   "source": [
    "from mypackage import module1, module2\n",
    "\n",
    "print(module1.add(2,3))\n",
    "print(module2.mult(2,3))"
   ]
  },
  {
   "cell_type": "markdown",
   "id": "546aee88",
   "metadata": {},
   "source": [
    "### Assignment 12: Using `__init__.py`\n",
    "\n",
    "Modify the `mypackage` package to include an `__init__.py` file that imports the functions from `module1` and `module2`. Write code to use these functions."
   ]
  },
  {
   "cell_type": "code",
   "execution_count": 2,
   "id": "ae42f24f",
   "metadata": {},
   "outputs": [
    {
     "name": "stdout",
     "output_type": "stream",
     "text": [
      "5\n",
      "6\n"
     ]
    }
   ],
   "source": [
    "try:\n",
    "    from mypackage import add, mult\n",
    "    \n",
    "    print(add(2, 3)) \n",
    "    print(mult(2, 3)) \n",
    "except ImportError as e:\n",
    "    print(f\"{e}\")"
   ]
  },
  {
   "cell_type": "markdown",
   "id": "f3fcac39",
   "metadata": {},
   "source": [
    "### Assignment 13: Importing from a Package\n",
    "\n",
    "Write code to import and use the functions from `mypackage` without explicitly importing `module1` and `module2`."
   ]
  },
  {
   "cell_type": "code",
   "execution_count": 1,
   "id": "beddaff9",
   "metadata": {},
   "outputs": [
    {
     "name": "stdout",
     "output_type": "stream",
     "text": [
      "5\n",
      "6\n"
     ]
    }
   ],
   "source": [
    "try:\n",
    "    from mypackage import add, mult\n",
    "    \n",
    "    print(add(2, 3)) \n",
    "    print(mult(2, 3)) \n",
    "except ImportError as e:\n",
    "    print(f\"{e}\")\n",
    " "
   ]
  },
  {
   "cell_type": "markdown",
   "id": "37210d10",
   "metadata": {},
   "source": [
    "### Assignment 14: Relative Imports\n",
    "\n",
    "Create a subpackage named `subpackage` within `mypackage` and move `module2` into `subpackage`. Modify the import statements in `__init__.py` to use relative imports. Write code to use the functions from both modules."
   ]
  },
  {
   "cell_type": "markdown",
   "id": "2ae4d91b",
   "metadata": {},
   "source": [
    "### Assignment 15: Handling Package Import Errors\n",
    "\n",
    "Write code that attempts to import a non-existent function from `mypackage` and gracefully handles the import error by printing an error message."
   ]
  },
  {
   "cell_type": "code",
   "execution_count": 3,
   "id": "7058f26d",
   "metadata": {},
   "outputs": [
    {
     "name": "stdout",
     "output_type": "stream",
     "text": [
      "cannot import name 'average' from 'mypackage' (d:\\RazonCoding\\Python\\machine learning\\01-Introduction_to_Python\\Solutions\\mypackage\\__init__.py)\n"
     ]
    }
   ],
   "source": [
    "try:\n",
    "    from mypackage import average\n",
    "except ImportError as e:\n",
    "    print(f\"{e}\")"
   ]
  }
 ],
 "metadata": {
  "kernelspec": {
   "display_name": "Python 3",
   "language": "python",
   "name": "python3"
  },
  "language_info": {
   "codemirror_mode": {
    "name": "ipython",
    "version": 3
   },
   "file_extension": ".py",
   "mimetype": "text/x-python",
   "name": "python",
   "nbconvert_exporter": "python",
   "pygments_lexer": "ipython3",
   "version": "3.10.0"
  }
 },
 "nbformat": 4,
 "nbformat_minor": 5
}
