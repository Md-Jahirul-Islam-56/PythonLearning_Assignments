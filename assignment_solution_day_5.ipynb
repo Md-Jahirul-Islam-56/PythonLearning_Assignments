{
 "cells": [
  {
   "cell_type": "markdown",
   "id": "974431c9",
   "metadata": {},
   "source": [
    "# Module 3: Data Structures Assignments\n",
    "## Lesson 3.3: Sets"
   ]
  },
  {
   "cell_type": "markdown",
   "id": "22856307",
   "metadata": {},
   "source": [
    "### Assignment 1: Creating and Accessing Sets\n",
    "\n",
    "Create a set with the first 10 positive integers. Print the set."
   ]
  },
  {
   "cell_type": "code",
   "execution_count": 54,
   "id": "433f7feb",
   "metadata": {},
   "outputs": [
    {
     "name": "stdout",
     "output_type": "stream",
     "text": [
      "{1, 2, 3, 4, 5, 6, 7, 8, 9, 10}\n"
     ]
    }
   ],
   "source": [
    "n_set = set(range(1,11))\n",
    "print(n_set)"
   ]
  },
  {
   "cell_type": "markdown",
   "id": "158f21eb",
   "metadata": {},
   "source": [
    "### Assignment 2: Adding and Removing Elements\n",
    "\n",
    "Add the number 11 to the set created in Assignment 1. Then remove the number 1 from the set. Print the modified set."
   ]
  },
  {
   "cell_type": "code",
   "execution_count": 49,
   "id": "492ffd4e",
   "metadata": {},
   "outputs": [
    {
     "name": "stdout",
     "output_type": "stream",
     "text": [
      "{1, 2, 3, 4, 5, 6, 7, 8, 9, 10, 11}\n",
      "{2, 3, 4, 5, 6, 7, 8, 9, 10, 11}\n"
     ]
    }
   ],
   "source": [
    "n_set.add(11)\n",
    "print(n_set)\n",
    "n_set.remove(1)\n",
    "print(n_set)"
   ]
  },
  {
   "cell_type": "markdown",
   "id": "242e395d",
   "metadata": {},
   "source": [
    "### Assignment 3: Set Operations\n",
    "\n",
    "Create two sets: one with the first 5 positive integers and another with the first 5 even integers. Perform and print the results of union, intersection, difference, and symmetric difference operations on these sets."
   ]
  },
  {
   "cell_type": "code",
   "execution_count": 50,
   "id": "0398c9c9",
   "metadata": {},
   "outputs": [
    {
     "name": "stdout",
     "output_type": "stream",
     "text": [
      "{1, 2, 3, 4, 5}\n",
      "{2, 4, 6, 8, 10}\n"
     ]
    }
   ],
   "source": [
    "set_one = set(range(1,6))\n",
    "set_two = set(range(2,11,2))\n",
    "print(set_one)\n",
    "print(set_two)"
   ]
  },
  {
   "cell_type": "markdown",
   "id": "2bd52690",
   "metadata": {},
   "source": [
    "### Assignment 4: Set Comprehensions\n",
    "\n",
    "Create a new set containing the squares of the first 10 positive integers using a set comprehension. Print the new set."
   ]
  },
  {
   "cell_type": "code",
   "execution_count": 51,
   "id": "aeea388c",
   "metadata": {},
   "outputs": [
    {
     "name": "stdout",
     "output_type": "stream",
     "text": [
      "{64, 1, 4, 36, 100, 9, 16, 49, 81, 25}\n"
     ]
    }
   ],
   "source": [
    "sq_set = set(x*x for x in range(1,11))\n",
    "print(sq_set)"
   ]
  },
  {
   "cell_type": "markdown",
   "id": "488af293",
   "metadata": {},
   "source": [
    "### Assignment 5: Filtering Sets\n",
    "\n",
    "Create a new set containing only the even numbers from the set created in Assignment 1 using a set comprehension. Print the new set."
   ]
  },
  {
   "cell_type": "code",
   "execution_count": 57,
   "id": "fb77d31b",
   "metadata": {},
   "outputs": [
    {
     "name": "stdout",
     "output_type": "stream",
     "text": [
      "{2, 4, 6, 8, 10}\n"
     ]
    }
   ],
   "source": [
    "a_set = {x for x in n_set if x%2==0}\n",
    "print(a_set)"
   ]
  },
  {
   "cell_type": "markdown",
   "id": "84d6d3c9",
   "metadata": {},
   "source": [
    "### Assignment 6: Set Methods\n",
    "\n",
    "Create a set with duplicate elements and remove the duplicates using set methods. Print the modified set."
   ]
  },
  {
   "cell_type": "code",
   "execution_count": 34,
   "id": "fdb5fcef",
   "metadata": {},
   "outputs": [
    {
     "name": "stdout",
     "output_type": "stream",
     "text": [
      "{1, 2, 3, 4, 5, 6}\n"
     ]
    }
   ],
   "source": [
    "d_set = {1,2,2,2,3,4,1,5,6}\n",
    "print(d_set)"
   ]
  },
  {
   "cell_type": "markdown",
   "id": "ce5d22e0",
   "metadata": {},
   "source": [
    "### Assignment 7: Subsets and Supersets\n",
    "\n",
    "Create two sets: one with the first 5 positive integers and another with the first 3 positive integers. Check if the second set is a subset of the first set and if the first set is a superset of the second set. Print the results."
   ]
  },
  {
   "cell_type": "code",
   "execution_count": 59,
   "id": "61123d9e",
   "metadata": {},
   "outputs": [
    {
     "name": "stdout",
     "output_type": "stream",
     "text": [
      "True\n",
      "True\n"
     ]
    }
   ],
   "source": [
    "print(a_set.issubset(n_set))\n",
    "print(n_set.issuperset(a_set))"
   ]
  },
  {
   "cell_type": "markdown",
   "id": "9f844f17",
   "metadata": {},
   "source": [
    "### Assignment 8: Frozenset\n",
    "\n",
    "Create a frozenset with the first 5 positive integers. Print the frozenset."
   ]
  },
  {
   "cell_type": "code",
   "execution_count": 60,
   "id": "95894c65",
   "metadata": {},
   "outputs": [
    {
     "name": "stdout",
     "output_type": "stream",
     "text": [
      "frozenset({1, 2, 3, 4.5})\n"
     ]
    }
   ],
   "source": [
    "froz_set = frozenset({1,2,3,4.5})\n",
    "print(froz_set)"
   ]
  },
  {
   "cell_type": "markdown",
   "id": "022e65a2",
   "metadata": {},
   "source": [
    "### Assignment 9: Set and List Conversion\n",
    "\n",
    "Create a set with the first 5 positive integers. Convert it to a list, append the number 6, and convert it back to a set. Print the resulting set."
   ]
  },
  {
   "cell_type": "code",
   "execution_count": 62,
   "id": "6e26b3cf",
   "metadata": {},
   "outputs": [
    {
     "name": "stdout",
     "output_type": "stream",
     "text": [
      "{1, 2, 3, 4, 5, 6, 7, 8, 9}\n"
     ]
    }
   ],
   "source": [
    "f_set = set(range(1,10))\n",
    "lst_f_set = list(f_set)\n",
    "lst_f_set.append(6)\n",
    "f_set = set(lst_f_set)\n",
    "print(f_set)"
   ]
  },
  {
   "cell_type": "markdown",
   "id": "974a5eed",
   "metadata": {},
   "source": [
    "### Assignment 10: Set and Dictionary\n",
    "\n",
    "Create a dictionary with set keys and integer values. Print the dictionary."
   ]
  },
  {
   "cell_type": "code",
   "execution_count": 65,
   "id": "b8974d9d",
   "metadata": {},
   "outputs": [
    {
     "name": "stdout",
     "output_type": "stream",
     "text": [
      "{frozenset({'a', 'b'}): 1, frozenset({'c', 'd'}): 2, frozenset({'e', 'f'}): 3}\n"
     ]
    }
   ],
   "source": [
    "dic_set = {\n",
    "    frozenset({\"a\",\"b\"}) : 1,\n",
    "    frozenset({\"c\",\"d\"}) : 2,\n",
    "    frozenset({\"e\",\"f\"}) : 3,\n",
    "}\n",
    "print(dic_set)"
   ]
  },
  {
   "cell_type": "markdown",
   "id": "8a5dcd50",
   "metadata": {},
   "source": [
    "### Assignment 11: Iterating Over Sets\n",
    "\n",
    "Create a set and iterate over the elements, printing each element."
   ]
  },
  {
   "cell_type": "code",
   "execution_count": 72,
   "id": "a6f50a1f",
   "metadata": {},
   "outputs": [
    {
     "name": "stdout",
     "output_type": "stream",
     "text": [
      "1\n",
      "2\n",
      "3\n",
      "4\n",
      "5\n",
      "6\n",
      "7\n",
      "9\n",
      "11\n"
     ]
    }
   ],
   "source": [
    "iter_set = {1,2,3,4,5,6,7,9,11}\n",
    "temp_list = list(iter_set)\n",
    "\n",
    "for i in range(len(temp_list)):\n",
    "    print(temp_list[i])"
   ]
  },
  {
   "cell_type": "markdown",
   "id": "d1d2335f",
   "metadata": {},
   "source": [
    "### Assignment 12: Removing Elements from Sets\n",
    "\n",
    "Create a set and remove elements from it until it is empty. Print the set after each removal."
   ]
  },
  {
   "cell_type": "code",
   "execution_count": 75,
   "id": "41c6f671",
   "metadata": {},
   "outputs": [
    {
     "name": "stdout",
     "output_type": "stream",
     "text": [
      "set()\n"
     ]
    }
   ],
   "source": [
    "iter_set = {1,2,3,4,5,6,7,9,11}\n",
    "temp_list = list(iter_set)\n",
    "\n",
    "for i in range(len(temp_list)):\n",
    "    temp_list.pop()\n",
    "\n",
    "iter_set = set(temp_list)\n",
    "print(iter_set)"
   ]
  },
  {
   "cell_type": "markdown",
   "id": "534991eb",
   "metadata": {},
   "source": [
    "### Assignment 13: Set Symmetric Difference Update\n",
    "\n",
    "Create two sets and update the first set with the symmetric difference of the two sets. Print the modified first set."
   ]
  },
  {
   "cell_type": "code",
   "execution_count": 77,
   "id": "e3a4ca25",
   "metadata": {},
   "outputs": [
    {
     "name": "stdout",
     "output_type": "stream",
     "text": [
      "{1, 3, 5, 7, 9} {2, 4, 6, 8, 10}\n",
      "{1, 3, 5, 6, 7, 4, 9, 2, 8, 10}\n"
     ]
    }
   ],
   "source": [
    "print(n_set,a_set)\n",
    "n_set.symmetric_difference_update(a_set)\n",
    "print(n_set)"
   ]
  },
  {
   "cell_type": "markdown",
   "id": "71c1d762",
   "metadata": {},
   "source": [
    "### Assignment 14: Set Membership Testing\n",
    "\n",
    "Create a set and test if certain elements are present in the set. Print the results."
   ]
  },
  {
   "cell_type": "code",
   "execution_count": 78,
   "id": "7cbdee35",
   "metadata": {},
   "outputs": [
    {
     "name": "stdout",
     "output_type": "stream",
     "text": [
      "False\n"
     ]
    }
   ],
   "source": [
    "print(200 in n_set)"
   ]
  },
  {
   "cell_type": "markdown",
   "id": "4892acb3",
   "metadata": {},
   "source": [
    "### Assignment 15: Set of Tuples\n",
    "\n",
    "Create a set containing tuples, where each tuple contains two elements. Print the set."
   ]
  },
  {
   "cell_type": "code",
   "execution_count": 93,
   "id": "212f9a68",
   "metadata": {},
   "outputs": [
    {
     "name": "stdout",
     "output_type": "stream",
     "text": [
      "16\n",
      "14\n",
      "14\n",
      "15\n",
      "1\n",
      "4\n"
     ]
    }
   ],
   "source": [
    "#tup_set = {((1,2,3),(4,5,6)), ((7,8,9),(10,11,12)), ((13,14,15),(16,17,18))}\n",
    "tup_set = {(1,4), (14,15),(16,14)}\n",
    "\n",
    "for out_tup in tup_set:\n",
    "    for in_tup in out_tup:\n",
    "        #for i in in_tup:\n",
    "        print(in_tup)"
   ]
  }
 ],
 "metadata": {
  "kernelspec": {
   "display_name": "Python 3",
   "language": "python",
   "name": "python3"
  },
  "language_info": {
   "codemirror_mode": {
    "name": "ipython",
    "version": 3
   },
   "file_extension": ".py",
   "mimetype": "text/x-python",
   "name": "python",
   "nbconvert_exporter": "python",
   "pygments_lexer": "ipython3",
   "version": "3.10.0"
  }
 },
 "nbformat": 4,
 "nbformat_minor": 5
}
