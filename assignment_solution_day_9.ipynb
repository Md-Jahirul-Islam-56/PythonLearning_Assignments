{
 "cells": [
  {
   "cell_type": "markdown",
   "id": "e849804f",
   "metadata": {},
   "source": [
    "# Module: File Handling Assignments\n",
    "## Lesson: File Handling and Operations\n",
    "### Assignment 1: Reading a File\n",
    "\n",
    "Write a function that reads the contents of a file named `sample.txt` and prints each line."
   ]
  },
  {
   "cell_type": "code",
   "execution_count": 4,
   "id": "d60d313c",
   "metadata": {},
   "outputs": [
    {
     "name": "stdout",
     "output_type": "stream",
     "text": [
      "wasif is a bad boy. He likes shera.\n"
     ]
    }
   ],
   "source": [
    "with open(\"sample.txt\",\"r\") as file:\n",
    "    file.seek(0)\n",
    "    content = file.read()\n",
    "    print(content)"
   ]
  },
  {
   "cell_type": "markdown",
   "id": "31a88c62",
   "metadata": {},
   "source": [
    "### Assignment 2: Writing to a File\n",
    "\n",
    "Write a function that writes a list of strings to a file named `output.txt`, with each string on a new line."
   ]
  },
  {
   "cell_type": "code",
   "execution_count": 7,
   "id": "c9e8f5c3",
   "metadata": {},
   "outputs": [],
   "source": [
    "lines = [\"Hi\", \"This is fun\"] \n",
    "with open(\"sample.txt\", 'w') as file:\n",
    "    for line in lines:\n",
    "        file.write(line + '\\n')"
   ]
  },
  {
   "cell_type": "markdown",
   "id": "7cf26ba3",
   "metadata": {},
   "source": [
    "### Assignment 3: Copying a File\n",
    "\n",
    "Write a function that copies the contents of a file named `source.txt` to a new file named `destination.txt`."
   ]
  },
  {
   "cell_type": "code",
   "execution_count": 9,
   "id": "05f8be4c",
   "metadata": {},
   "outputs": [],
   "source": [
    "with open(\"sample.txt\",\"r\") as file:\n",
    "    file.seek(0)\n",
    "    content=file.readlines()\n",
    "\n",
    "with open(\"integerfile.txt\", 'w') as file:\n",
    "    for line in content:\n",
    "        file.write(line.strip() + '\\n')\n"
   ]
  },
  {
   "cell_type": "markdown",
   "id": "d210ac8a",
   "metadata": {},
   "source": [
    "### Assignment 4: Appending to a File\n",
    "\n",
    "Write a function that appends a given string to the end of a file named `log.txt`."
   ]
  },
  {
   "cell_type": "code",
   "execution_count": 10,
   "id": "b6127783",
   "metadata": {},
   "outputs": [],
   "source": [
    "with open(\"integerfile.txt\", 'a') as file:\n",
    "    \n",
    "    for line in [\"cats\", \"are eating bone\"]:\n",
    "        file.write(line.strip() + '\\n')"
   ]
  },
  {
   "cell_type": "markdown",
   "id": "ed02c3ef",
   "metadata": {},
   "source": [
    "### Assignment 5: Counting Words in a File\n",
    "\n",
    "Write a function that reads the contents of a file named `document.txt` and returns the number of words in the file."
   ]
  },
  {
   "cell_type": "code",
   "execution_count": 23,
   "id": "19f276f4",
   "metadata": {},
   "outputs": [
    {
     "name": "stdout",
     "output_type": "stream",
     "text": [
      "9\n"
     ]
    }
   ],
   "source": [
    "with open(\"integerfile.txt\", 'r') as file:\n",
    "    file.seek(0)\n",
    "    content = file.read()\n",
    "    # print(type(content))\n",
    "    words = content.split()\n",
    "    print(len(words))"
   ]
  },
  {
   "cell_type": "markdown",
   "id": "932ee244",
   "metadata": {},
   "source": [
    "### Assignment 6: Finding and Replacing Text\n",
    "\n",
    "Write a function that finds and replaces all occurrences of a given word in a file named `data.txt` with another word."
   ]
  },
  {
   "cell_type": "code",
   "execution_count": 26,
   "id": "d35c4b43",
   "metadata": {},
   "outputs": [],
   "source": [
    "with open(\"integerfile.txt\", 'r') as file:\n",
    "    file.seek(0)\n",
    "    content = file.read()\n",
    "    replace = content.replace(\"fun\", \"gun\")\n",
    "\n",
    "with open(\"integerfile.txt\", \"w\") as file:\n",
    "    file.write(replace)\n"
   ]
  },
  {
   "cell_type": "markdown",
   "id": "40a69b8f",
   "metadata": {},
   "source": [
    "### Assignment 7: Reading a File in Reverse\n",
    "\n",
    "Write a function that reads the contents of a file named `reverse.txt` and prints each line in reverse order."
   ]
  },
  {
   "cell_type": "code",
   "execution_count": 51,
   "id": "710af77f",
   "metadata": {},
   "outputs": [],
   "source": [
    "with open(\"integerfile.txt\", 'r') as file:\n",
    "    file.seek(0)\n",
    "    content = file.read()\n",
    "    replace = content[::-1]\n",
    "\n",
    "with open(\"integerfile.txt\", \"w\") as file:\n",
    "    file.write(replace)"
   ]
  },
  {
   "cell_type": "markdown",
   "id": "60577653",
   "metadata": {},
   "source": [
    "### Assignment 8: Counting Lines, Words, and Characters\n",
    "\n",
    "Write a function that reads the contents of a file named `stats.txt` and returns the number of lines, words, and characters in the file."
   ]
  },
  {
   "cell_type": "code",
   "execution_count": 22,
   "id": "5d175c0b",
   "metadata": {},
   "outputs": [
    {
     "name": "stdout",
     "output_type": "stream",
     "text": [
      "['jahirul is a good boy\\n', 'he is always caring of people']\n",
      "2\n",
      "[['jahirul', 'is', 'a', 'good', 'boy'], ['he', 'is', 'always', 'caring', 'of', 'people']]\n",
      "11\n",
      "['jahirul is a good boy\\n', 'he is always caring of people']\n",
      "51\n"
     ]
    }
   ],
   "source": [
    "with open(\"integerfile.txt\", \"r\") as file:\n",
    "    lines = file.readlines()\n",
    "    print(lines)\n",
    "    print(len(lines))\n",
    "    print(f\"{[line.split() for line in lines] }\")\n",
    "    words = sum(len(line.split()) for line in lines)\n",
    "    print(words)\n",
    "    print(f\"{[line for line in lines] }\")\n",
    "    char = sum(len(line) for line in lines)\n",
    "    print(char)\n"
   ]
  },
  {
   "cell_type": "markdown",
   "id": "02b4d9a1",
   "metadata": {},
   "source": [
    "### Assignment 9: Merging Multiple Files\n",
    "\n",
    "Write a function that merges the contents of multiple files into a single file named `merged.txt`."
   ]
  },
  {
   "cell_type": "code",
   "execution_count": 23,
   "id": "3466eee4",
   "metadata": {},
   "outputs": [],
   "source": [
    "with open(\"integerfile.txt\", \"r\") as file:\n",
    "    contents_one = file.read()\n",
    "with open(\"sample.txt\", 'r') as file:\n",
    "    contents_two = file.read()\n",
    "with open(\"merged.txt\", 'w') as file:\n",
    "    merge = contents_one + '\\n' + contents_two\n",
    "    file.write(merge)"
   ]
  },
  {
   "cell_type": "markdown",
   "id": "2e4ee388",
   "metadata": {},
   "source": [
    "### Assignment 10: Splitting a Large File\n",
    "\n",
    "Write a function that splits a large file named `large.txt` into smaller files of 100 lines each."
   ]
  },
  {
   "cell_type": "code",
   "execution_count": 38,
   "id": "3dea01d1",
   "metadata": {},
   "outputs": [],
   "source": [
    "with open(\"large.txt\", 'r') as file:\n",
    "    lines = file.readlines()\n",
    "    i = 0\n",
    "    for line in range(1,len(lines),100):\n",
    "        i+=1\n",
    "        with open(f\"{i}_smaller.text\", 'w') as f:\n",
    "            f.writelines(lines[line: line+100])\n"
   ]
  },
  {
   "cell_type": "markdown",
   "id": "780e22bf",
   "metadata": {},
   "source": [
    "### Assignment 11: Creating a Log File\n",
    "\n",
    "Write a function that creates a log file named `activity.log` and writes log messages with timestamps."
   ]
  },
  {
   "cell_type": "code",
   "execution_count": 29,
   "id": "3bf6042d",
   "metadata": {},
   "outputs": [],
   "source": [
    "from datetime import datetime \n",
    "with open('image.log', 'a') as file:\n",
    "    timestamps = datetime.now().strftime(r'%Y-%m-%d %H:%M:%S')\n",
    "    file.write(f\"The time and date is: {timestamps}\\n\")"
   ]
  },
  {
   "cell_type": "markdown",
   "id": "73841aeb",
   "metadata": {},
   "source": [
    "### Assignment 12: Binary File Operations\n",
    "\n",
    "Write a function that reads a binary file named `image.bin` and writes its contents to another binary file named `copy_image.bin`."
   ]
  },
  {
   "cell_type": "code",
   "execution_count": null,
   "id": "318c1867",
   "metadata": {},
   "outputs": [],
   "source": [
    "with open('image.bin', 'rb') as file:\n",
    "    data = file.read()\n",
    "    print(data)\n",
    "with open('copy_image.bin', 'wb') as file:\n",
    "    file.write(data)"
   ]
  },
  {
   "cell_type": "markdown",
   "id": "2165ffcf",
   "metadata": {},
   "source": [
    "### Assignment 13: CSV File Operations\n",
    "\n",
    "Write a function that reads a CSV file named `data.csv` and prints its contents as a list of dictionaries."
   ]
  },
  {
   "cell_type": "code",
   "execution_count": null,
   "id": "154d76f2",
   "metadata": {},
   "outputs": [],
   "source": [
    "import csv\n",
    "with open('data.csv', 'r') as file:\n",
    "    data = csv.DictReader(file)\n",
    "    print(data)"
   ]
  },
  {
   "cell_type": "markdown",
   "id": "874a6b96",
   "metadata": {},
   "source": [
    "### Assignment 14: JSON File Operations\n",
    "\n",
    "Write a function that reads a JSON file named `data.json` and prints its contents as a Python dictionary."
   ]
  },
  {
   "cell_type": "code",
   "execution_count": null,
   "id": "da2e6943",
   "metadata": {},
   "outputs": [],
   "source": [
    "import json\n",
    "with open(\"data.json\", 'r') as file:\n",
    "    data = json.load(file)\n",
    "    print(data)"
   ]
  },
  {
   "cell_type": "markdown",
   "id": "00dabe0c",
   "metadata": {},
   "source": [
    "### Assignment 15: File Permission Handling\n",
    "\n",
    "Write a function that attempts to read a file named `protected.txt` and handles any permission errors gracefully by printing an error message."
   ]
  },
  {
   "cell_type": "code",
   "execution_count": 24,
   "id": "7a53ba39",
   "metadata": {},
   "outputs": [
    {
     "name": "stdout",
     "output_type": "stream",
     "text": [
      "jahirul is a good boy\n",
      "he is always caring of people\n"
     ]
    }
   ],
   "source": [
    "try:\n",
    "    with open(\"integerfile.txt\", 'r') as file:\n",
    "        print(file.read())\n",
    "except PermissionError as e:\n",
    "    print(f\"Permission error: {e}\")"
   ]
  }
 ],
 "metadata": {
  "kernelspec": {
   "display_name": "Python 3",
   "language": "python",
   "name": "python3"
  },
  "language_info": {
   "codemirror_mode": {
    "name": "ipython",
    "version": 3
   },
   "file_extension": ".py",
   "mimetype": "text/x-python",
   "name": "python",
   "nbconvert_exporter": "python",
   "pygments_lexer": "ipython3",
   "version": "3.10.0"
  }
 },
 "nbformat": 4,
 "nbformat_minor": 5
}
