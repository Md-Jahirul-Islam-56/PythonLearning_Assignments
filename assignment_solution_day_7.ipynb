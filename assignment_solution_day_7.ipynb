{
 "cells": [
  {
   "cell_type": "markdown",
   "id": "26eef062",
   "metadata": {},
   "source": [
    "# Module 4: Advanced Functions Assignments\n",
    "## Lesson 4.1: Defining Functions"
   ]
  },
  {
   "cell_type": "markdown",
   "id": "a1e7b863",
   "metadata": {},
   "source": [
    "### Assignment 1: Fibonacci Sequence with Memoization\n",
    "\n",
    "Define a recursive function to calculate the nth Fibonacci number using memoization. Test the function with different inputs."
   ]
  },
  {
   "cell_type": "code",
   "execution_count": 94,
   "id": "83c50d3f",
   "metadata": {},
   "outputs": [
    {
     "name": "stdout",
     "output_type": "stream",
     "text": [
      "[0, 1, 1, 2, 3, 5, 8, 13, 21, 34, 55, 89, 144]\n"
     ]
    },
    {
     "data": {
      "text/plain": [
       "144"
      ]
     },
     "execution_count": 94,
     "metadata": {},
     "output_type": "execute_result"
    }
   ],
   "source": [
    "def fibo_calculation(n):\n",
    "    if n<=0:\n",
    "        return -1\n",
    "    if n==1:\n",
    "        return 0\n",
    "    if n==2:\n",
    "        return 1\n",
    "    if n>2:\n",
    "        return (fibo_calculation(n-1)+fibo_calculation(n-2))\n",
    "    \n",
    "def easy_fibo_calc(n):\n",
    "    a , b = 0 , 1\n",
    "    while(n>1):\n",
    "        a, b = b, a+b\n",
    "        n-=1\n",
    "    return a\n",
    "\n",
    "\n",
    "def fibo_value(n):\n",
    "    if fibo_calculation(n)==-1:\n",
    "        return \"invalid number\"\n",
    "    else:\n",
    "        return fibo_calculation(n)\n",
    "\n",
    "n = [1,2,3,4,5,6,7,8,9,10,11,12,13]\n",
    "\n",
    "print(list(map(fibo_value,n)))\n",
    "\n",
    "easy_fibo_calc(13)\n"
   ]
  },
  {
   "cell_type": "markdown",
   "id": "f574eb07",
   "metadata": {},
   "source": [
    "### Assignment 2: Function with Nested Default Arguments\n",
    "\n",
    "Define a function that takes two arguments, a and b, where b is a dictionary with a default value of an empty dictionary. The function should add a new key-value pair to the dictionary and return it. Test the function with different inputs."
   ]
  },
  {
   "cell_type": "code",
   "execution_count": 43,
   "id": "8d38a3f0",
   "metadata": {},
   "outputs": [
    {
     "name": "stdout",
     "output_type": "stream",
     "text": [
      "{'name': 'Jahirul', 'num': 2, 4: 8}\n"
     ]
    }
   ],
   "source": [
    "def func(a,b={}):\n",
    "    b[a]=a*2\n",
    "    return b\n",
    "print(func(4,{\"name\":\"Jahirul\",'num':2}))"
   ]
  },
  {
   "cell_type": "markdown",
   "id": "d84f1dec",
   "metadata": {},
   "source": [
    "### Assignment 3: Function with Variable Keyword Arguments\n",
    "\n",
    "Define a function that takes a variable number of keyword arguments and returns a dictionary containing only those key-value pairs where the value is an integer. Test the function with different inputs."
   ]
  },
  {
   "cell_type": "code",
   "execution_count": 44,
   "id": "70a0a5ad",
   "metadata": {},
   "outputs": [
    {
     "name": "stdout",
     "output_type": "stream",
     "text": [
      "{2: 3, 'n': 4}\n"
     ]
    }
   ],
   "source": [
    "def fun(kargs):\n",
    "    nkargs = {}\n",
    "    for k, v in kargs.items():\n",
    "        if isinstance(v, int):\n",
    "            nkargs[k] = v\n",
    "    return nkargs\n",
    "\n",
    "print(fun({1: '2', 2: 3, 'n': 4}))\n",
    "\n"
   ]
  },
  {
   "cell_type": "markdown",
   "id": "2926ccd0",
   "metadata": {},
   "source": [
    "### Assignment 4: Function with Callback\n",
    "\n",
    "Define a function that takes another function as a callback and a list of integers. The function should apply the callback to each integer in the list and return a new list with the results. Test with different callback functions."
   ]
  },
  {
   "cell_type": "code",
   "execution_count": 47,
   "id": "df930552",
   "metadata": {},
   "outputs": [
    {
     "name": "stdout",
     "output_type": "stream",
     "text": [
      "[0, 1, 1, 2, 3, 5, 8, 13, 21, 34, 55, 89, 144]\n",
      "[1, 1, 2, 3, 5, 8, 1, 1, 3, 1, 1]\n"
     ]
    }
   ],
   "source": [
    "def h_func(a, callback):\n",
    "    return print(list(map(callback,a)))\n",
    "    \n",
    "h_func(n,fibo_value)\n",
    "a=[2,3,4,5,6,7,3,3,5,3,2]\n",
    "h_func(a,fibo_value)\n"
   ]
  },
  {
   "cell_type": "markdown",
   "id": "24569c97",
   "metadata": {},
   "source": [
    "### Assignment 5: Function that Returns a Function\n",
    "\n",
    "Define a function that returns another function. The returned function should take an integer and return its square. Test the returned function with different inputs."
   ]
  },
  {
   "cell_type": "code",
   "execution_count": 56,
   "id": "f8168290",
   "metadata": {},
   "outputs": [
    {
     "name": "stdout",
     "output_type": "stream",
     "text": [
      "4\n"
     ]
    },
    {
     "data": {
      "text/plain": [
       "9"
      ]
     },
     "execution_count": 56,
     "metadata": {},
     "output_type": "execute_result"
    }
   ],
   "source": [
    "def returned_func(n):\n",
    "    return n**2\n",
    "def func(returned_func):\n",
    "    return returned_func\n",
    "\n",
    "print(func(returned_func(2)))\n",
    "func(returned_func(3))"
   ]
  },
  {
   "cell_type": "markdown",
   "id": "df00d7b5",
   "metadata": {},
   "source": [
    "### Assignment 6: Function with Decorators\n",
    "\n",
    "Define a function that calculates the time taken to execute another function. Apply this decorator to a function that performs a complex calculation. Test the decorated function with different inputs."
   ]
  },
  {
   "cell_type": "code",
   "execution_count": 63,
   "id": "8c07c178",
   "metadata": {},
   "outputs": [
    {
     "name": "stdout",
     "output_type": "stream",
     "text": [
      "[89, 144, 1, 3524578]\n"
     ]
    },
    {
     "data": {
      "text/plain": [
       "'The execution time is: 6.295897722244263'"
      ]
     },
     "execution_count": 63,
     "metadata": {},
     "output_type": "execute_result"
    }
   ],
   "source": [
    "import time\n",
    "\n",
    "def execution_time(returned_func):\n",
    "    start_time = time.time()\n",
    "    returned_func([12,13,2,34],fibo_value)\n",
    "    end_time = time.time()\n",
    "    return f\"The execution time is: {end_time-start_time}\"\n",
    "\n",
    "execution_time(returned_func=h_func)\n"
   ]
  },
  {
   "cell_type": "markdown",
   "id": "36f66390",
   "metadata": {},
   "source": [
    "### Assignment 7: Higher-Order Function for Filtering and Mapping\n",
    "\n",
    "Define a higher-order function that takes two functions, a filter function and a map function, along with a list of integers. The higher-order function should first filter the integers using the filter function and then apply the map function to the filtered integers. Test with different filter and map functions."
   ]
  },
  {
   "cell_type": "code",
   "execution_count": 71,
   "id": "ec6b01a9",
   "metadata": {},
   "outputs": [
    {
     "name": "stdout",
     "output_type": "stream",
     "text": [
      "[1, 2, 3, 4, 5, 6, 7, 8, 9, 10, 11, 12, 13]\n"
     ]
    },
    {
     "data": {
      "text/plain": [
       "[6, 8, 10, 12]"
      ]
     },
     "execution_count": 71,
     "metadata": {},
     "output_type": "execute_result"
    }
   ],
   "source": [
    "def higher_fun(func1, func2, lst):\n",
    "    filtered_int = list(filter(func1,lst))\n",
    "    mapped_int = list(map(func2,filtered_int))\n",
    "    mapped_int = [n for n in  mapped_int if n is not None]\n",
    "    return mapped_int\n",
    "\n",
    "def is_even(n):\n",
    "    return n%2==0\n",
    "    \n",
    "def is_greater_than_five(n):\n",
    "    return n if n>5 else None\n",
    "print(n)\n",
    "higher_fun(is_even, is_greater_than_five, n)"
   ]
  },
  {
   "cell_type": "markdown",
   "id": "e7dcabe9",
   "metadata": {},
   "source": [
    "### Assignment 8: Function Composition\n",
    "\n",
    "Define a function that composes two functions, f and g, such that the result is f(g(x)). Test with different functions f and g."
   ]
  },
  {
   "cell_type": "code",
   "execution_count": 72,
   "id": "811db5e0",
   "metadata": {},
   "outputs": [
    {
     "data": {
      "text/plain": [
       "6"
      ]
     },
     "execution_count": 72,
     "metadata": {},
     "output_type": "execute_result"
    }
   ],
   "source": [
    "def composite_func(f, g, n):\n",
    "    return f(g(n))\n",
    "\n",
    "def f(x):\n",
    "    return x+2\n",
    "def g(x):\n",
    "    return x**2\n",
    "\n",
    "composite_func(f,g,2)"
   ]
  },
  {
   "cell_type": "markdown",
   "id": "aff4c113",
   "metadata": {},
   "source": [
    "### Assignment 9: Partial Function Application\n",
    "\n",
    "Use the functools.partial function to create a new function that multiplies its input by 2. Test the new function with different inputs."
   ]
  },
  {
   "cell_type": "code",
   "execution_count": 81,
   "id": "bf8c7751",
   "metadata": {},
   "outputs": [
    {
     "name": "stdout",
     "output_type": "stream",
     "text": [
      "81\n"
     ]
    },
    {
     "data": {
      "text/plain": [
       "6"
      ]
     },
     "execution_count": 81,
     "metadata": {},
     "output_type": "execute_result"
    }
   ],
   "source": [
    "from functools import partial\n",
    "\n",
    "p_composite_fun = partial(composite_func, f= lambda x:x**2,n=3) #setting default for n and f function\n",
    "print(p_composite_fun(g = g))\n",
    "\n",
    "num_three = partial(lambda x:x*2, x=3)\n",
    "num_three()"
   ]
  },
  {
   "cell_type": "markdown",
   "id": "31b702fe",
   "metadata": {},
   "source": [
    "### Assignment 10: Function with Error Handling\n",
    "\n",
    "Define a function that takes a list of integers and returns their average. The function should handle any errors that occur (e.g., empty list) and return None in such cases. Test with different inputs."
   ]
  },
  {
   "cell_type": "code",
   "execution_count": 98,
   "id": "0a2c82c5",
   "metadata": {},
   "outputs": [],
   "source": [
    "def avg(n):\n",
    "    try:\n",
    "         return sum(n)/len(n)   \n",
    "    except:\n",
    "        return None\n",
    "\n",
    "avg([1,2,3,4,5,6,7,8,9,10])\n",
    "avg(n)\n",
    "avg([])\n"
   ]
  },
  {
   "cell_type": "markdown",
   "id": "fd97c51b",
   "metadata": {},
   "source": [
    "### Assignment 11: Function with Generators\n",
    "\n",
    "Define a function that generates an infinite sequence of Fibonacci numbers. Test by printing the first 10 numbers in the sequence."
   ]
  },
  {
   "cell_type": "code",
   "execution_count": null,
   "id": "b75ae6e4",
   "metadata": {},
   "outputs": [],
   "source": [
    "def fibonacci_generator():\n",
    "    a, b = 0, 1\n",
    "    while True:\n",
    "        yield a\n",
    "        a, b = b, a + b\n",
    "\n",
    "fib_gen = fibonacci_generator()\n",
    "for _ in range(10):\n",
    "    print(next(fib_gen))"
   ]
  },
  {
   "cell_type": "markdown",
   "id": "baba203c",
   "metadata": {},
   "source": [
    "### Assignment 12: Currying\n",
    "\n",
    "Define a curried function that takes three arguments, one at a time, and returns their product. Test the function by providing arguments one at a time."
   ]
  },
  {
   "cell_type": "code",
   "execution_count": 96,
   "id": "d2ee3090",
   "metadata": {},
   "outputs": [
    {
     "name": "stdout",
     "output_type": "stream",
     "text": [
      "8\n"
     ]
    }
   ],
   "source": [
    "def c_fun(x):\n",
    "    def fun2(y):\n",
    "        def fun3(z):\n",
    "            return x*y*z\n",
    "        return fun3\n",
    "    return fun2\n",
    "\n",
    "f2 = c_fun(2)\n",
    "f3 = f2(2)\n",
    "print(f3(2))"
   ]
  },
  {
   "cell_type": "markdown",
   "id": "e9fa1b6c",
   "metadata": {},
   "source": [
    "### Assignment 13: Function with Context Manager\n",
    "\n",
    "Define a function that uses a context manager to write a list of integers to a file. The function should handle any errors that occur during file operations. Test with different lists."
   ]
  },
  {
   "cell_type": "code",
   "execution_count": 113,
   "id": "982aaca5",
   "metadata": {},
   "outputs": [],
   "source": [
    "class file_func:\n",
    "    def __enter__(self):\n",
    "        self.f = open(\"integerfile.txt\", \"a\")\n",
    "        self.f.write(\"My name is Jahirul. \")\n",
    "        return self.f\n",
    "\n",
    "    def __exit__(self, exc_type, exc_value, traceback):\n",
    "        self.f.close()\n",
    "\n",
    "with file_func() as f:\n",
    "    f.write(\"I am learning Context Manager Protocol in Python\")\n",
    "\n",
    "with file_func() as f:\n",
    "    f.write(\"This is fun\")"
   ]
  },
  {
   "cell_type": "markdown",
   "id": "98b7bc1a",
   "metadata": {},
   "source": [
    "### Assignment 14: Function with Multiple Return Types\n",
    "\n",
    "Define a function that takes a list of mixed data types (integers, strings, and floats) and returns three lists: one containing all the integers, one containing all the strings, and one containing all the floats. Test with different inputs."
   ]
  },
  {
   "cell_type": "code",
   "execution_count": 126,
   "id": "6c4d5f29",
   "metadata": {},
   "outputs": [
    {
     "data": {
      "text/plain": [
       "([1, 2, 3], ['Jahirul', 'Islam'], [3.5, 6.54])"
      ]
     },
     "execution_count": 126,
     "metadata": {},
     "output_type": "execute_result"
    }
   ],
   "source": [
    "def fun(lst):\n",
    "    nlst1 = []\n",
    "    nlst2 = []\n",
    "    nlst3 = []\n",
    "    for i in lst:\n",
    "        if isinstance(i, int):\n",
    "            nlst1.append(i)\n",
    "        elif isinstance(i, str):\n",
    "            nlst2.append(i)\n",
    "        elif isinstance(i, float):\n",
    "            nlst3.append(i)\n",
    "    return nlst1,nlst2,nlst3\n",
    "\n",
    "def fun2(lst):\n",
    "    nlst1 = [i for i in lst if isinstance(i, int)]\n",
    "    nlst2 = [i for i in lst if isinstance(i, str)]\n",
    "    nlst3 = [i for i in lst if isinstance(i, float)]\n",
    "    return nlst1,nlst2,nlst3\n",
    "new = [1,2,3,'Jahirul','Islam',3.5,6.54]            \n",
    "fun2(new)"
   ]
  },
  {
   "cell_type": "markdown",
   "id": "f80ddaf0",
   "metadata": {},
   "source": [
    "### Assignment 15: Function with State\n",
    "\n",
    "Define a function that maintains state between calls using a mutable default argument. The function should keep track of how many times it has been called. Test by calling the function multiple times."
   ]
  },
  {
   "cell_type": "code",
   "execution_count": 137,
   "id": "9f987515",
   "metadata": {},
   "outputs": [
    {
     "name": "stdout",
     "output_type": "stream",
     "text": [
      "1\n",
      "2\n",
      "3\n",
      "1\n",
      "2\n",
      "3\n"
     ]
    }
   ],
   "source": [
    "count = {'count': 0}\n",
    "\n",
    "x=0\n",
    "def calling2():\n",
    "    global x\n",
    "    x += 1\n",
    "    return x\n",
    "\n",
    "def calling(count):\n",
    "    count['count'] += 1\n",
    "    return count['count']\n",
    "\n",
    "print(calling2()) \n",
    "print(calling2())\n",
    "print(calling2())  \n",
    "\n",
    "print(calling(count)) \n",
    "print(calling(count))\n",
    "print(calling(count))  "
   ]
  }
 ],
 "metadata": {
  "kernelspec": {
   "display_name": "Python 3",
   "language": "python",
   "name": "python3"
  },
  "language_info": {
   "codemirror_mode": {
    "name": "ipython",
    "version": 3
   },
   "file_extension": ".py",
   "mimetype": "text/x-python",
   "name": "python",
   "nbconvert_exporter": "python",
   "pygments_lexer": "ipython3",
   "version": "3.10.0"
  }
 },
 "nbformat": 4,
 "nbformat_minor": 5
}
